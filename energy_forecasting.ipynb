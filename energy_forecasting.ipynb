{
 "cells": [
  {
   "cell_type": "markdown",
   "id": "640e30db",
   "metadata": {},
   "source": [
    "# Energy Consumption Forecasting for a Utility Company\n"
   ]
  },
  {
   "cell_type": "code",
   "execution_count": 2,
   "id": "7b550460",
   "metadata": {},
   "outputs": [],
   "source": [
    "import pandas as pd\n",
    "import numpy as np\n",
    "import matplotlib.pyplot as plt\n",
    "import seaborn as sns\n",
    "from faker import Faker\n",
    "from datetime import datetime, timedelta\n",
    "import random\n",
    "from sklearn.experimental import enable_iterative_imputer\n",
    "from sklearn.impute import IterativeImputer"
   ]
  },
  {
   "cell_type": "code",
   "execution_count": 3,
   "id": "8a8cfba6",
   "metadata": {},
   "outputs": [],
   "source": [
    "# set options to be maximum rows and columns\n",
    "pd.set_option('display.max_columns', None)\n",
    "pd.set_option('display.max_rows', None)\n",
    "\n",
    "# hide all warnings runtime\n",
    "import warnings\n",
    "warnings.filterwarnings('ignore')"
   ]
  },
  {
   "cell_type": "code",
   "execution_count": 4,
   "id": "f1136bf2",
   "metadata": {},
   "outputs": [
    {
     "name": "stdout",
     "output_type": "stream",
     "text": [
      "--- Region Metadata ---\n",
      "     Region  Population IndustrialDensity\n",
      "0  Region_1      387911               Low\n",
      "1  Region_2      253047            Medium\n",
      "2  Region_3      412222               Low\n",
      "3  Region_4      103088               Low\n",
      "4  Region_5      297848              High\n",
      "(20, 3)\n",
      "\n",
      "--- Energy Consumption ---\n",
      "            Timestamp  Consumption     Region CustomerType\n",
      "0 2022-01-01 00:00:00          NaN   Region_7  Residential\n",
      "1 2022-01-01 00:30:00    45.106089  Region_20   Commercial\n",
      "2 2022-01-01 01:00:00    42.162413  Region_15   Commercial\n",
      "3 2022-01-01 01:30:00    66.255357  Region_11   Commercial\n",
      "4 2022-01-01 02:00:00    74.392770   Region_8   Commercial\n",
      "(35000, 4)\n",
      "\n",
      "--- Weather Data ---\n",
      "                 Date     Region  Temperature   Humidity\n",
      "0 2022-01-01 00:00:00  Region_20    24.013791  78.188921\n",
      "1 2022-01-01 02:00:00   Region_1    24.884924  73.501054\n",
      "2 2022-01-01 04:00:00   Region_7    19.988835  56.143885\n",
      "3 2022-01-01 06:00:00  Region_12    18.777079  10.434227\n",
      "4 2022-01-01 08:00:00  Region_20    18.007393  68.489268\n",
      "(10000, 4)\n"
     ]
    }
   ],
   "source": [
    "# --- Dataset 3: Region Metadata (20 rows) ---\n",
    "regions = [f\"Region_{i+1}\" for i in range(20)]\n",
    "populations = np.random.randint(50000, 500000, size=20)\n",
    "industrial_density = np.random.choice(['Low', 'Medium', 'High'], size=20)\n",
    "\n",
    "region_metadata = pd.DataFrame({\n",
    "    'Region': regions,\n",
    "    'Population': populations,\n",
    "    'IndustrialDensity': industrial_density\n",
    "})\n",
    "\n",
    "# --- Dataset 1: Energy Consumption (35,000 rows) ---\n",
    "np.random.seed(42)\n",
    "start_date = datetime(2022, 1, 1)\n",
    "timestamps = [start_date + timedelta(minutes=30*i) for i in range(35000)]\n",
    "regions_sample = np.random.choice(regions, size=35000)\n",
    "customer_types = np.random.choice(['Residential', 'Commercial'], size=35000)\n",
    "\n",
    "# Base consumption with random walk + customer/region noise\n",
    "base_consumption = abs(np.random.normal(30, 10, size=35000))\n",
    "base_consumption += np.where(customer_types == 'Commercial', 20, 0)\n",
    "base_consumption += np.array([int(r[-1])*2 for r in regions_sample])\n",
    "\n",
    "# Add outliers on random holidays\n",
    "holiday_indices = np.random.choice(range(35000), size=100, replace=False)\n",
    "base_consumption[holiday_indices] *= np.random.uniform(1.8, 3.0, size=100)\n",
    "\n",
    "# Introduce 7% missing\n",
    "missing_indices = np.random.choice(range(35000), size=int(0.07*35000), replace=False)\n",
    "base_consumption[missing_indices] = np.nan\n",
    "\n",
    "energy_consumption = pd.DataFrame({\n",
    "    'Timestamp': timestamps,\n",
    "    'Consumption': base_consumption,\n",
    "    'Region': regions_sample,\n",
    "    'CustomerType': customer_types\n",
    "})\n",
    "\n",
    "# --- Dataset 2: Weather Data (10,000 rows) ---\n",
    "weather_dates = [start_date + timedelta(hours=2*i) for i in range(10000)]\n",
    "weather_regions = np.random.choice(regions, size=10000)\n",
    "temps = np.random.normal(22, 6, size=10000)\n",
    "humidity = np.random.normal(60, 15, size=10000)\n",
    "\n",
    "# 5% missing humidity\n",
    "humidity[np.random.choice(range(10000), size=500, replace=False)] = np.nan\n",
    "\n",
    "weather_data = pd.DataFrame({\n",
    "    'Date': weather_dates,\n",
    "    'Region': weather_regions,\n",
    "    'Temperature': temps,\n",
    "    'Humidity': humidity\n",
    "})\n",
    "\n",
    "# Preview datasets\n",
    "print(\"--- Region Metadata ---\")\n",
    "print(region_metadata.head())\n",
    "print(region_metadata.shape)\n",
    "print(\"\\n--- Energy Consumption ---\")\n",
    "print(energy_consumption.head())\n",
    "print(energy_consumption.shape)\n",
    "print(\"\\n--- Weather Data ---\")\n",
    "print(weather_data.head())\n",
    "print(weather_data.shape)"
   ]
  },
  {
   "cell_type": "code",
   "execution_count": 5,
   "id": "9f0ffc92",
   "metadata": {},
   "outputs": [
    {
     "name": "stdout",
     "output_type": "stream",
     "text": [
      "Energy timestamp type: datetime64[ns]\n",
      "Weather date type: datetime64[ns]\n"
     ]
    }
   ],
   "source": [
    "print(\"Energy timestamp type:\", energy_consumption['Timestamp'].dtype)\n",
    "print(\"Weather date type:\", weather_data['Date'].dtype)"
   ]
  },
  {
   "cell_type": "code",
   "execution_count": 6,
   "id": "2d2f593e",
   "metadata": {},
   "outputs": [
    {
     "name": "stdout",
     "output_type": "stream",
     "text": [
      "Energy sorted: True\n",
      "Weather sorted: True\n"
     ]
    }
   ],
   "source": [
    "print(\"Energy sorted:\", energy_consumption['Timestamp'].is_monotonic_increasing)\n",
    "print(\"Weather sorted:\", weather_data['Date'].is_monotonic_increasing)"
   ]
  },
  {
   "cell_type": "code",
   "execution_count": 7,
   "id": "f418ded7",
   "metadata": {},
   "outputs": [
    {
     "name": "stdout",
     "output_type": "stream",
     "text": [
      "Energy regions: ['Region_7' 'Region_20' 'Region_15' 'Region_11' 'Region_8']\n",
      "Weather regions: ['Region_20' 'Region_1' 'Region_7' 'Region_12' 'Region_11']\n"
     ]
    }
   ],
   "source": [
    "print(\"Energy regions:\", energy_consumption['Region'].unique()[:5])\n",
    "print(\"Weather regions:\", weather_data['Region'].unique()[:5])"
   ]
  },
  {
   "cell_type": "markdown",
   "id": "98d40987",
   "metadata": {},
   "source": [
    "### Merging The Data"
   ]
  },
  {
   "cell_type": "code",
   "execution_count": 8,
   "id": "1f7eefa0",
   "metadata": {},
   "outputs": [
    {
     "name": "stdout",
     "output_type": "stream",
     "text": [
      "            Timestamp  Consumption  Region_x CustomerType                Date  \\\n",
      "0 2022-01-01 00:00:00          NaN  Region_7  Residential                 NaT   \n",
      "1 2022-01-01 02:30:00    42.694408  Region_7  Residential                 NaT   \n",
      "2 2022-01-01 15:00:00    65.486011  Region_7   Commercial 2022-01-01 04:00:00   \n",
      "3 2022-01-01 16:00:00    65.901625  Region_7   Commercial 2022-01-01 04:00:00   \n",
      "4 2022-01-01 20:30:00    51.089951  Region_7   Commercial 2022-01-01 20:00:00   \n",
      "\n",
      "   Region_y  Temperature   Humidity  \n",
      "0       NaN          NaN        NaN  \n",
      "1       NaN          NaN        NaN  \n",
      "2  Region_7    19.988835  56.143885  \n",
      "3  Region_7    19.988835  56.143885  \n",
      "4  Region_7    13.294222  61.392605  \n",
      "(35000, 8)\n",
      "<class 'pandas.core.frame.DataFrame'>\n",
      "RangeIndex: 35000 entries, 0 to 34999\n",
      "Data columns (total 8 columns):\n",
      " #   Column        Non-Null Count  Dtype         \n",
      "---  ------        --------------  -----         \n",
      " 0   Timestamp     35000 non-null  datetime64[ns]\n",
      " 1   Consumption   32550 non-null  float64       \n",
      " 2   Region_x      35000 non-null  object        \n",
      " 3   CustomerType  35000 non-null  object        \n",
      " 4   Date          34924 non-null  datetime64[ns]\n",
      " 5   Region_y      34924 non-null  object        \n",
      " 6   Temperature   34924 non-null  float64       \n",
      " 7   Humidity      32958 non-null  float64       \n",
      "dtypes: datetime64[ns](2), float64(3), object(3)\n",
      "memory usage: 2.1+ MB\n",
      "None\n",
      "                 Timestamp   Consumption                           Date  \\\n",
      "count                35000  32550.000000                          34924   \n",
      "mean   2022-12-31 13:45:00     49.473361  2022-12-30 18:42:32.284961792   \n",
      "min    2022-01-01 00:00:00      1.009645            2022-01-01 00:00:00   \n",
      "25%    2022-07-02 06:52:30     38.348272            2022-07-01 20:00:00   \n",
      "50%    2022-12-31 13:45:00     49.348570            2022-12-31 00:00:00   \n",
      "75%    2023-07-01 20:37:30     60.261759            2023-07-01 00:00:00   \n",
      "max    2023-12-31 03:30:00    211.936395            2023-12-30 22:00:00   \n",
      "std                    NaN     15.805559                            NaN   \n",
      "\n",
      "        Temperature      Humidity  \n",
      "count  34924.000000  32958.000000  \n",
      "mean      22.182152     60.011103  \n",
      "min       -0.488260      3.616314  \n",
      "25%       18.009202     49.692085  \n",
      "50%       22.287542     60.178315  \n",
      "75%       26.397341     70.239837  \n",
      "max       44.171162    113.823019  \n",
      "std        5.961086     15.097250  \n"
     ]
    }
   ],
   "source": [
    "# We'll collect the merged results per region\n",
    "merged_parts = []\n",
    "\n",
    "for region in energy_consumption['Region'].unique():\n",
    "    ec_region = energy_consumption[energy_consumption['Region'] == region].copy()\n",
    "    wd_region = weather_data[weather_data['Region'] == region].copy()\n",
    "\n",
    "    # Make sure both are sorted\n",
    "    ec_region.sort_values('Timestamp', inplace=True)\n",
    "    wd_region.sort_values('Date', inplace=True)\n",
    "\n",
    "    # Use merge_asof\n",
    "    merged = pd.merge_asof(\n",
    "        ec_region,\n",
    "        wd_region,\n",
    "        left_on='Timestamp',\n",
    "        right_on='Date',\n",
    "        direction='backward'\n",
    "    )\n",
    "\n",
    "    merged_parts.append(merged)\n",
    "\n",
    "# Combine everything into one big DataFrame\n",
    "energy_weather_merged = pd.concat(merged_parts, ignore_index=True)\n",
    "\n",
    "print(energy_weather_merged.head())\n",
    "print(energy_weather_merged.shape)\n",
    "print(energy_weather_merged.info())\n",
    "print(energy_weather_merged.describe())\n",
    "\n",
    "df = energy_weather_merged"
   ]
  },
  {
   "cell_type": "code",
   "execution_count": 9,
   "id": "6334428f",
   "metadata": {},
   "outputs": [],
   "source": [
    "# Drop Region_y, and keep Region_x as 'Region'\n",
    "df.drop(columns=['Region_y'], inplace=True)\n",
    "df.rename(columns={'Region_x': 'Region'}, inplace=True)"
   ]
  },
  {
   "cell_type": "code",
   "execution_count": 10,
   "id": "d6d08091",
   "metadata": {},
   "outputs": [
    {
     "data": {
      "text/plain": [
       "(35000, 7)"
      ]
     },
     "execution_count": 10,
     "metadata": {},
     "output_type": "execute_result"
    }
   ],
   "source": [
    "df.shape"
   ]
  },
  {
   "cell_type": "code",
   "execution_count": 11,
   "id": "efd1a8fb",
   "metadata": {},
   "outputs": [],
   "source": [
    "df = df.merge(region_metadata, on='Region', how='left')"
   ]
  },
  {
   "cell_type": "code",
   "execution_count": 12,
   "id": "1a5ef743",
   "metadata": {},
   "outputs": [],
   "source": [
    "df['Date'] = df['Timestamp'].dt.floor('D')"
   ]
  },
  {
   "cell_type": "markdown",
   "id": "f7257a6e",
   "metadata": {},
   "source": [
    "## Step 2: Data Preprocessing & Feature Engineering"
   ]
  },
  {
   "cell_type": "code",
   "execution_count": 13,
   "id": "2a8547b3",
   "metadata": {},
   "outputs": [
    {
     "name": "stdout",
     "output_type": "stream",
     "text": [
      "<class 'pandas.core.frame.DataFrame'>\n",
      "RangeIndex: 35000 entries, 0 to 34999\n",
      "Data columns (total 9 columns):\n",
      " #   Column             Non-Null Count  Dtype         \n",
      "---  ------             --------------  -----         \n",
      " 0   Timestamp          35000 non-null  datetime64[ns]\n",
      " 1   Consumption        32550 non-null  float64       \n",
      " 2   Region             35000 non-null  object        \n",
      " 3   CustomerType       35000 non-null  object        \n",
      " 4   Date               35000 non-null  datetime64[ns]\n",
      " 5   Temperature        34924 non-null  float64       \n",
      " 6   Humidity           32958 non-null  float64       \n",
      " 7   Population         35000 non-null  int32         \n",
      " 8   IndustrialDensity  35000 non-null  object        \n",
      "dtypes: datetime64[ns](2), float64(3), int32(1), object(3)\n",
      "memory usage: 2.3+ MB\n"
     ]
    }
   ],
   "source": [
    "df.info()"
   ]
  },
  {
   "cell_type": "markdown",
   "id": "8bca174e",
   "metadata": {},
   "source": [
    "### Handling Missing Values"
   ]
  },
  {
   "cell_type": "code",
   "execution_count": 14,
   "id": "48064368",
   "metadata": {},
   "outputs": [
    {
     "data": {
      "application/vnd.microsoft.datawrangler.viewer.v0+json": {
       "columns": [
        {
         "name": "index",
         "rawType": "object",
         "type": "string"
        },
        {
         "name": "0",
         "rawType": "float64",
         "type": "float"
        }
       ],
       "ref": "7a018828-1486-4c1f-b964-e672443dfec7",
       "rows": [
        [
         "Timestamp",
         "0.0"
        ],
        [
         "Consumption",
         "7.000000000000001"
        ],
        [
         "Region",
         "0.0"
        ],
        [
         "CustomerType",
         "0.0"
        ],
        [
         "Date",
         "0.0"
        ],
        [
         "Temperature",
         "0.21714285714285717"
        ],
        [
         "Humidity",
         "5.8342857142857145"
        ],
        [
         "Population",
         "0.0"
        ],
        [
         "IndustrialDensity",
         "0.0"
        ]
       ],
       "shape": {
        "columns": 1,
        "rows": 9
       }
      },
      "text/plain": [
       "Timestamp            0.000000\n",
       "Consumption          7.000000\n",
       "Region               0.000000\n",
       "CustomerType         0.000000\n",
       "Date                 0.000000\n",
       "Temperature          0.217143\n",
       "Humidity             5.834286\n",
       "Population           0.000000\n",
       "IndustrialDensity    0.000000\n",
       "dtype: float64"
      ]
     },
     "execution_count": 14,
     "metadata": {},
     "output_type": "execute_result"
    }
   ],
   "source": [
    "df.isnull().sum() / len(df) * 100"
   ]
  },
  {
   "cell_type": "code",
   "execution_count": 15,
   "id": "fbf0f9d6",
   "metadata": {},
   "outputs": [
    {
     "data": {
      "application/vnd.microsoft.datawrangler.viewer.v0+json": {
       "columns": [
        {
         "name": "index",
         "rawType": "object",
         "type": "string"
        },
        {
         "name": "Timestamp",
         "rawType": "object",
         "type": "unknown"
        },
        {
         "name": "Consumption",
         "rawType": "float64",
         "type": "float"
        },
        {
         "name": "Date",
         "rawType": "object",
         "type": "unknown"
        },
        {
         "name": "Temperature",
         "rawType": "float64",
         "type": "float"
        },
        {
         "name": "Humidity",
         "rawType": "float64",
         "type": "float"
        },
        {
         "name": "Population",
         "rawType": "float64",
         "type": "float"
        }
       ],
       "ref": "0c3b2bdf-fbde-41f6-b2ae-97c739780623",
       "rows": [
        [
         "count",
         "35000",
         "32550.0",
         "35000",
         "34924.0",
         "32958.0",
         "35000.0"
        ],
        [
         "mean",
         "2022-12-31 13:45:00",
         "49.47336058960129",
         "2022-12-31 02:00:08.228571392",
         "22.18215174322671",
         "60.01110303978976",
         "283949.1885714286"
        ],
        [
         "min",
         "2022-01-01 00:00:00",
         "1.0096450675111015",
         "2022-01-01 00:00:00",
         "-0.48826028854205816",
         "3.616314319245163",
         "56126.0"
        ],
        [
         "25%",
         "2022-07-02 06:52:30",
         "38.34827213186256",
         "2022-07-02 00:00:00",
         "18.009201884388254",
         "49.6920848145742",
         "147571.0"
        ],
        [
         "50%",
         "2022-12-31 13:45:00",
         "49.348569720184976",
         "2022-12-31 00:00:00",
         "22.287541955725846",
         "60.17831505618903",
         "297848.0"
        ],
        [
         "75%",
         "2023-07-01 20:37:30",
         "60.26175939470028",
         "2023-07-01 00:00:00",
         "26.39734146976189",
         "70.23983727958566",
         "425561.0"
        ],
        [
         "max",
         "2023-12-31 03:30:00",
         "211.93639531957677",
         "2023-12-31 00:00:00",
         "44.171162158142195",
         "113.82301913311635",
         "483832.0"
        ],
        [
         "std",
         null,
         "15.805559208485457",
         null,
         "5.961086211074419",
         "15.097250388669066",
         "137303.34580109065"
        ]
       ],
       "shape": {
        "columns": 6,
        "rows": 8
       }
      },
      "text/html": [
       "<div>\n",
       "<style scoped>\n",
       "    .dataframe tbody tr th:only-of-type {\n",
       "        vertical-align: middle;\n",
       "    }\n",
       "\n",
       "    .dataframe tbody tr th {\n",
       "        vertical-align: top;\n",
       "    }\n",
       "\n",
       "    .dataframe thead th {\n",
       "        text-align: right;\n",
       "    }\n",
       "</style>\n",
       "<table border=\"1\" class=\"dataframe\">\n",
       "  <thead>\n",
       "    <tr style=\"text-align: right;\">\n",
       "      <th></th>\n",
       "      <th>Timestamp</th>\n",
       "      <th>Consumption</th>\n",
       "      <th>Date</th>\n",
       "      <th>Temperature</th>\n",
       "      <th>Humidity</th>\n",
       "      <th>Population</th>\n",
       "    </tr>\n",
       "  </thead>\n",
       "  <tbody>\n",
       "    <tr>\n",
       "      <th>count</th>\n",
       "      <td>35000</td>\n",
       "      <td>32550.000000</td>\n",
       "      <td>35000</td>\n",
       "      <td>34924.000000</td>\n",
       "      <td>32958.000000</td>\n",
       "      <td>35000.000000</td>\n",
       "    </tr>\n",
       "    <tr>\n",
       "      <th>mean</th>\n",
       "      <td>2022-12-31 13:45:00</td>\n",
       "      <td>49.473361</td>\n",
       "      <td>2022-12-31 02:00:08.228571392</td>\n",
       "      <td>22.182152</td>\n",
       "      <td>60.011103</td>\n",
       "      <td>283949.188571</td>\n",
       "    </tr>\n",
       "    <tr>\n",
       "      <th>min</th>\n",
       "      <td>2022-01-01 00:00:00</td>\n",
       "      <td>1.009645</td>\n",
       "      <td>2022-01-01 00:00:00</td>\n",
       "      <td>-0.488260</td>\n",
       "      <td>3.616314</td>\n",
       "      <td>56126.000000</td>\n",
       "    </tr>\n",
       "    <tr>\n",
       "      <th>25%</th>\n",
       "      <td>2022-07-02 06:52:30</td>\n",
       "      <td>38.348272</td>\n",
       "      <td>2022-07-02 00:00:00</td>\n",
       "      <td>18.009202</td>\n",
       "      <td>49.692085</td>\n",
       "      <td>147571.000000</td>\n",
       "    </tr>\n",
       "    <tr>\n",
       "      <th>50%</th>\n",
       "      <td>2022-12-31 13:45:00</td>\n",
       "      <td>49.348570</td>\n",
       "      <td>2022-12-31 00:00:00</td>\n",
       "      <td>22.287542</td>\n",
       "      <td>60.178315</td>\n",
       "      <td>297848.000000</td>\n",
       "    </tr>\n",
       "    <tr>\n",
       "      <th>75%</th>\n",
       "      <td>2023-07-01 20:37:30</td>\n",
       "      <td>60.261759</td>\n",
       "      <td>2023-07-01 00:00:00</td>\n",
       "      <td>26.397341</td>\n",
       "      <td>70.239837</td>\n",
       "      <td>425561.000000</td>\n",
       "    </tr>\n",
       "    <tr>\n",
       "      <th>max</th>\n",
       "      <td>2023-12-31 03:30:00</td>\n",
       "      <td>211.936395</td>\n",
       "      <td>2023-12-31 00:00:00</td>\n",
       "      <td>44.171162</td>\n",
       "      <td>113.823019</td>\n",
       "      <td>483832.000000</td>\n",
       "    </tr>\n",
       "    <tr>\n",
       "      <th>std</th>\n",
       "      <td>NaN</td>\n",
       "      <td>15.805559</td>\n",
       "      <td>NaN</td>\n",
       "      <td>5.961086</td>\n",
       "      <td>15.097250</td>\n",
       "      <td>137303.345801</td>\n",
       "    </tr>\n",
       "  </tbody>\n",
       "</table>\n",
       "</div>"
      ],
      "text/plain": [
       "                 Timestamp   Consumption                           Date  \\\n",
       "count                35000  32550.000000                          35000   \n",
       "mean   2022-12-31 13:45:00     49.473361  2022-12-31 02:00:08.228571392   \n",
       "min    2022-01-01 00:00:00      1.009645            2022-01-01 00:00:00   \n",
       "25%    2022-07-02 06:52:30     38.348272            2022-07-02 00:00:00   \n",
       "50%    2022-12-31 13:45:00     49.348570            2022-12-31 00:00:00   \n",
       "75%    2023-07-01 20:37:30     60.261759            2023-07-01 00:00:00   \n",
       "max    2023-12-31 03:30:00    211.936395            2023-12-31 00:00:00   \n",
       "std                    NaN     15.805559                            NaN   \n",
       "\n",
       "        Temperature      Humidity     Population  \n",
       "count  34924.000000  32958.000000   35000.000000  \n",
       "mean      22.182152     60.011103  283949.188571  \n",
       "min       -0.488260      3.616314   56126.000000  \n",
       "25%       18.009202     49.692085  147571.000000  \n",
       "50%       22.287542     60.178315  297848.000000  \n",
       "75%       26.397341     70.239837  425561.000000  \n",
       "max       44.171162    113.823019  483832.000000  \n",
       "std        5.961086     15.097250  137303.345801  "
      ]
     },
     "execution_count": 15,
     "metadata": {},
     "output_type": "execute_result"
    }
   ],
   "source": [
    "df.describe()"
   ]
  },
  {
   "cell_type": "code",
   "execution_count": 16,
   "id": "da7a95c2",
   "metadata": {},
   "outputs": [],
   "source": [
    "# Interpolate Temperature\n",
    "temp_interp = (\n",
    "    df.groupby('Region')\n",
    "      .apply(lambda group: group.set_index('Timestamp')['Temperature']\n",
    "                            .interpolate(method='time'))\n",
    "      .reset_index()\n",
    ")\n",
    "\n",
    "# Interpolate Humidity\n",
    "hum_interp = (\n",
    "    df.groupby('Region')\n",
    "      .apply(lambda group: group.set_index('Timestamp')['Humidity']\n",
    "                            .interpolate(method='time'))\n",
    "      .reset_index()\n",
    ")\n",
    "\n",
    "# Merge back the interpolated values by Timestamp and Region\n",
    "df = df.merge(temp_interp, on=['Region', 'Timestamp'], how='left', suffixes=('', '_interp'))\n",
    "df = df.merge(hum_interp, on=['Region', 'Timestamp'], how='left', suffixes=('', '_interp'))\n",
    "\n",
    "# Replace original with interpolated values\n",
    "df['Temperature'] = df['Temperature_interp']\n",
    "df['Humidity'] = df['Humidity_interp']\n",
    "\n",
    "# Drop helper columns\n",
    "df.drop(columns=['Temperature_interp', 'Humidity_interp'], inplace=True)\n"
   ]
  },
  {
   "cell_type": "code",
   "execution_count": 17,
   "id": "3f7603af",
   "metadata": {},
   "outputs": [],
   "source": [
    "# Final edge fill (within each region)\n",
    "df['Temperature'] = df.groupby('Region')['Temperature'].transform(lambda x: x.ffill().bfill())\n",
    "df['Humidity'] = df.groupby('Region')['Humidity'].transform(lambda x: x.ffill().bfill())"
   ]
  },
  {
   "cell_type": "code",
   "execution_count": 18,
   "id": "0c20afa2",
   "metadata": {},
   "outputs": [
    {
     "data": {
      "application/vnd.microsoft.datawrangler.viewer.v0+json": {
       "columns": [
        {
         "name": "index",
         "rawType": "object",
         "type": "string"
        },
        {
         "name": "0",
         "rawType": "float64",
         "type": "float"
        }
       ],
       "ref": "c15ff4cd-8ee9-427d-a4f7-e89957238f70",
       "rows": [
        [
         "Timestamp",
         "0.0"
        ],
        [
         "Consumption",
         "7.000000000000001"
        ],
        [
         "Region",
         "0.0"
        ],
        [
         "CustomerType",
         "0.0"
        ],
        [
         "Date",
         "0.0"
        ],
        [
         "Temperature",
         "0.0"
        ],
        [
         "Humidity",
         "0.0"
        ],
        [
         "Population",
         "0.0"
        ],
        [
         "IndustrialDensity",
         "0.0"
        ]
       ],
       "shape": {
        "columns": 1,
        "rows": 9
       }
      },
      "text/plain": [
       "Timestamp            0.0\n",
       "Consumption          7.0\n",
       "Region               0.0\n",
       "CustomerType         0.0\n",
       "Date                 0.0\n",
       "Temperature          0.0\n",
       "Humidity             0.0\n",
       "Population           0.0\n",
       "IndustrialDensity    0.0\n",
       "dtype: float64"
      ]
     },
     "execution_count": 18,
     "metadata": {},
     "output_type": "execute_result"
    }
   ],
   "source": [
    "df.isnull().sum() / len(df) * 100"
   ]
  },
  {
   "cell_type": "code",
   "execution_count": 19,
   "id": "e810d06b",
   "metadata": {},
   "outputs": [],
   "source": [
    "# 1. Encode categoricals\n",
    "df['CustomerType_code'] = df['CustomerType'].map({'Residential': 0, 'Commercial': 1})\n",
    "df['IndustrialDensity_code'] = df['IndustrialDensity'].map({'Low': 0, 'Medium': 1, 'High': 2})\n",
    "\n",
    "# 2. Create time-based features\n",
    "df['hour'] = df['Timestamp'].dt.hour\n",
    "df['weekday'] = df['Timestamp'].dt.weekday\n",
    "df['month'] = df['Timestamp'].dt.month\n",
    "\n",
    "# 3. Define features to use for prediction\n",
    "features = [\n",
    "    'CustomerType_code', 'IndustrialDensity_code', 'Population',\n",
    "    'Temperature', 'Humidity', 'hour', 'weekday', 'month'\n",
    "]\n",
    "\n",
    "# 4. Training data: only rows with known Consumption\n",
    "train_df = df[df['Consumption'].notna()]"
   ]
  },
  {
   "cell_type": "code",
   "execution_count": 20,
   "id": "9292d23a",
   "metadata": {},
   "outputs": [],
   "source": [
    "from sklearn.ensemble import RandomForestRegressor\n",
    "\n",
    "# 1. Train/test split (only for imputation, not final forecast)\n",
    "X_train = train_df[features]\n",
    "y_train = train_df['Consumption']\n",
    "\n",
    "# 2. Fit the model\n",
    "rf_model = RandomForestRegressor(n_estimators=100, random_state=42)\n",
    "rf_model.fit(X_train, y_train)\n",
    "\n",
    "# 3. Predict missing Consumption\n",
    "missing_df = df[df['Consumption'].isna()]\n",
    "X_missing = missing_df[features]\n",
    "predicted_consumption = rf_model.predict(X_missing)\n",
    "\n",
    "# 4. Fill missing values\n",
    "df.loc[df['Consumption'].isna(), 'Consumption'] = predicted_consumption"
   ]
  },
  {
   "cell_type": "code",
   "execution_count": 21,
   "id": "27ad0f5c",
   "metadata": {},
   "outputs": [
    {
     "data": {
      "application/vnd.microsoft.datawrangler.viewer.v0+json": {
       "columns": [
        {
         "name": "index",
         "rawType": "object",
         "type": "string"
        },
        {
         "name": "0",
         "rawType": "float64",
         "type": "float"
        }
       ],
       "ref": "413dd60d-5d4a-446d-b398-d0d443ec94d3",
       "rows": [
        [
         "Timestamp",
         "0.0"
        ],
        [
         "Consumption",
         "0.0"
        ],
        [
         "Region",
         "0.0"
        ],
        [
         "CustomerType",
         "0.0"
        ],
        [
         "Date",
         "0.0"
        ],
        [
         "Temperature",
         "0.0"
        ],
        [
         "Humidity",
         "0.0"
        ],
        [
         "Population",
         "0.0"
        ],
        [
         "IndustrialDensity",
         "0.0"
        ],
        [
         "CustomerType_code",
         "0.0"
        ],
        [
         "IndustrialDensity_code",
         "0.0"
        ],
        [
         "hour",
         "0.0"
        ],
        [
         "weekday",
         "0.0"
        ],
        [
         "month",
         "0.0"
        ]
       ],
       "shape": {
        "columns": 1,
        "rows": 14
       }
      },
      "text/plain": [
       "Timestamp                 0.0\n",
       "Consumption               0.0\n",
       "Region                    0.0\n",
       "CustomerType              0.0\n",
       "Date                      0.0\n",
       "Temperature               0.0\n",
       "Humidity                  0.0\n",
       "Population                0.0\n",
       "IndustrialDensity         0.0\n",
       "CustomerType_code         0.0\n",
       "IndustrialDensity_code    0.0\n",
       "hour                      0.0\n",
       "weekday                   0.0\n",
       "month                     0.0\n",
       "dtype: float64"
      ]
     },
     "execution_count": 21,
     "metadata": {},
     "output_type": "execute_result"
    }
   ],
   "source": [
    "df.isnull().sum() / len(df) * 100"
   ]
  },
  {
   "cell_type": "markdown",
   "id": "95478563",
   "metadata": {},
   "source": [
    "### Checking Outliers"
   ]
  },
  {
   "cell_type": "code",
   "execution_count": 22,
   "id": "b72ab3b1",
   "metadata": {},
   "outputs": [],
   "source": [
    "def check_outliers(df):\n",
    "    outlier_summary = {}\n",
    "\n",
    "    for col in df.select_dtypes(include='number').columns:\n",
    "        Q1 = df[col].quantile(0.25)\n",
    "        Q3 = df[col].quantile(0.75)\n",
    "        IQR = Q3 - Q1\n",
    "        lower = Q1 - 1.5 * IQR\n",
    "        upper = Q3 + 1.5 * IQR\n",
    "\n",
    "        outliers = df[(df[col] < lower) | (df[col] > upper)][col]\n",
    "        outlier_summary[col] = {\n",
    "            \"count\": len(outliers),\n",
    "            \"percent\": round(100 * len(outliers) / len(df), 2)\n",
    "        }\n",
    "\n",
    "    return pd.DataFrame(outlier_summary).T.sort_values(by=\"percent\", ascending=False)"
   ]
  },
  {
   "cell_type": "code",
   "execution_count": 23,
   "id": "86805641",
   "metadata": {},
   "outputs": [
    {
     "name": "stdout",
     "output_type": "stream",
     "text": [
      "                        count  percent\n",
      "Humidity                246.0     0.70\n",
      "Temperature             152.0     0.43\n",
      "Consumption             111.0     0.32\n",
      "Population                0.0     0.00\n",
      "CustomerType_code         0.0     0.00\n",
      "IndustrialDensity_code    0.0     0.00\n",
      "hour                      0.0     0.00\n",
      "weekday                   0.0     0.00\n",
      "month                     0.0     0.00\n"
     ]
    }
   ],
   "source": [
    "outlier_report = check_outliers(df)\n",
    "print(outlier_report)"
   ]
  },
  {
   "cell_type": "markdown",
   "id": "666ba7f3",
   "metadata": {},
   "source": [
    "# 3. Modeling"
   ]
  },
  {
   "cell_type": "markdown",
   "id": "d1dbf3a5",
   "metadata": {},
   "source": [
    "## Prophet Model"
   ]
  },
  {
   "cell_type": "code",
   "execution_count": 24,
   "id": "579ac70d",
   "metadata": {},
   "outputs": [],
   "source": [
    "from prophet import Prophet\n",
    "\n",
    "# Step 1: Create Prophet-compatible DataFrame\n",
    "prophet_df = df[['Timestamp', 'Consumption']].copy()\n",
    "prophet_df.rename(columns={'Timestamp': 'ds', 'Consumption': 'y'}, inplace=True)\n",
    "\n",
    "# Optional: downsample to daily total to reduce noise\n",
    "daily_df = prophet_df.resample('D', on='ds').mean().reset_index()"
   ]
  },
  {
   "cell_type": "code",
   "execution_count": 25,
   "id": "ce255906",
   "metadata": {},
   "outputs": [
    {
     "name": "stderr",
     "output_type": "stream",
     "text": [
      "19:51:49 - cmdstanpy - INFO - Chain [1] start processing\n",
      "19:51:49 - cmdstanpy - INFO - Chain [1] done processing\n"
     ]
    },
    {
     "data": {
      "text/plain": [
       "<prophet.forecaster.Prophet at 0x1fc74ad3230>"
      ]
     },
     "execution_count": 25,
     "metadata": {},
     "output_type": "execute_result"
    }
   ],
   "source": [
    "model = Prophet(daily_seasonality=True, yearly_seasonality=True)\n",
    "model.fit(daily_df)"
   ]
  },
  {
   "cell_type": "code",
   "execution_count": 26,
   "id": "cb66b7a8",
   "metadata": {},
   "outputs": [],
   "source": [
    "future = model.make_future_dataframe(periods=90)\n",
    "forecast = model.predict(future)"
   ]
  },
  {
   "cell_type": "code",
   "execution_count": 27,
   "id": "99692301",
   "metadata": {},
   "outputs": [
    {
     "data": {
      "image/png": "[encoded data removed]",
      "text/plain": [
       "<Figure size 1000x600 with 1 Axes>"
      ]
     },
     "metadata": {},
     "output_type": "display_data"
    }
   ],
   "source": [
    "model.plot(forecast);"
   ]
  },
  {
   "cell_type": "code",
   "execution_count": 28,
   "id": "de23e6a4",
   "metadata": {},
   "outputs": [],
   "source": [
    "# Keep only the rows where we have actual values (not future)\n",
    "merged = daily_df.merge(\n",
    "    forecast[['ds', 'yhat']],\n",
    "    on='ds',\n",
    "    how='left'\n",
    ").dropna()"
   ]
  },
  {
   "cell_type": "code",
   "execution_count": 29,
   "id": "9756a833",
   "metadata": {},
   "outputs": [
    {
     "name": "stdout",
     "output_type": "stream",
     "text": [
      "MAPE: 3.53%\n",
      "RMSE: 2.22 kWh\n"
     ]
    }
   ],
   "source": [
    "from sklearn.metrics import mean_absolute_percentage_error, mean_squared_error\n",
    "\n",
    "mape = mean_absolute_percentage_error(merged['y'], merged['yhat']) * 100\n",
    "rmse = np.sqrt(mean_squared_error(merged['y'], merged['yhat']))\n",
    "\n",
    "print(f\"MAPE: {mape:.2f}%\")\n",
    "print(f\"RMSE: {rmse:.2f} kWh\")"
   ]
  },
  {
   "cell_type": "code",
   "execution_count": 30,
   "id": "d8330c4f",
   "metadata": {},
   "outputs": [
    {
     "data": {
      "image/png": "[encoded data removed]",
      "text/plain": [
       "<Figure size 1200x600 with 1 Axes>"
      ]
     },
     "metadata": {},
     "output_type": "display_data"
    }
   ],
   "source": [
    "import matplotlib.pyplot as plt\n",
    "\n",
    "plt.figure(figsize=(12, 6))\n",
    "plt.plot(merged['ds'], merged['y'], label='Actual')\n",
    "plt.plot(merged['ds'], merged['yhat'], label='Predicted (Prophet)')\n",
    "plt.xlabel('Date')\n",
    "plt.ylabel('Consumption (kWh)')\n",
    "plt.title('Forecast vs Actual')\n",
    "plt.legend()\n",
    "plt.grid(True)\n",
    "plt.tight_layout()\n",
    "plt.show()"
   ]
  },
  {
   "cell_type": "code",
   "execution_count": 31,
   "id": "975d6eb9",
   "metadata": {},
   "outputs": [
    {
     "data": {
      "image/png": "[encoded data removed]",
      "text/plain": [
       "<Figure size 1200x600 with 1 Axes>"
      ]
     },
     "metadata": {},
     "output_type": "display_data"
    }
   ],
   "source": [
    "plt.figure(figsize=(12, 6))\n",
    "plt.plot(forecast['ds'], forecast['yhat'], label='Forecast (Next 90 days)')\n",
    "plt.axvline(x=daily_df['ds'].max(), color='red', linestyle='--', label='Today')\n",
    "plt.xlabel('Date')\n",
    "plt.ylabel('Consumption (kWh)')\n",
    "plt.title('Energy Forecast Including Next 90 Days')\n",
    "plt.legend()\n",
    "plt.grid(True)\n",
    "plt.tight_layout()\n",
    "plt.show()"
   ]
  },
  {
   "cell_type": "code",
   "execution_count": 32,
   "id": "aedd2114",
   "metadata": {},
   "outputs": [
    {
     "data": {
      "image/png": "[encoded data removed]",
      "text/plain": [
       "<Figure size 900x1200 with 4 Axes>"
      ]
     },
     "metadata": {},
     "output_type": "display_data"
    }
   ],
   "source": [
    "model.plot_components(forecast);"
   ]
  },
  {
   "cell_type": "code",
   "execution_count": 33,
   "id": "b4c2ab2e",
   "metadata": {},
   "outputs": [
    {
     "name": "stdout",
     "output_type": "stream",
     "text": [
      "            ds       yhat\n",
      "735 2024-01-06  50.085135\n",
      "742 2024-01-13  50.016523\n",
      "732 2024-01-03  49.954627\n",
      "739 2024-01-10  49.948311\n",
      "738 2024-01-09  49.889223\n",
      "733 2024-01-04  49.887315\n",
      "734 2024-01-05  49.880011\n",
      "731 2024-01-02  49.877257\n",
      "740 2024-01-11  49.861428\n",
      "737 2024-01-08  49.856043\n"
     ]
    }
   ],
   "source": [
    "# Get only future forecast rows\n",
    "future_only = forecast[forecast['ds'] > daily_df['ds'].max()].copy()\n",
    "\n",
    "# Top 10 highest forecasted consumption days\n",
    "top_peaks = future_only.sort_values('yhat', ascending=False).head(10)\n",
    "\n",
    "print(top_peaks[['ds', 'yhat']])"
   ]
  },
  {
   "cell_type": "code",
   "execution_count": 34,
   "id": "ca5d6181",
   "metadata": {},
   "outputs": [
    {
     "name": "stdout",
     "output_type": "stream",
     "text": [
      "🔹 Predicted peak demand will occur in January. Recommend increasing capacity during this period.\n",
      "🔹 Lowest demand is forecasted around: February 11, February 18, February 12, February 04, February 13. Good window for maintenance scheduling.\n"
     ]
    }
   ],
   "source": [
    "import pandas as pd\n",
    "\n",
    "# 1. Only future predictions\n",
    "cutoff = daily_df['ds'].max()\n",
    "future_only = forecast[forecast['ds'] > cutoff].copy()\n",
    "\n",
    "# Add helper columns\n",
    "future_only['month'] = future_only['ds'].dt.month\n",
    "future_only['weekday'] = future_only['ds'].dt.weekday  # 0 = Mon, 6 = Sun\n",
    "\n",
    "# 2. Peak demand month\n",
    "peak_month = (\n",
    "    future_only.groupby('month')['yhat']\n",
    "    .mean()\n",
    "    .sort_values(ascending=False)\n",
    "    .idxmax()\n",
    ")\n",
    "\n",
    "# 3. Weekday vs weekend\n",
    "weekday_mean = future_only[future_only['weekday'] < 5]['yhat'].mean()\n",
    "weekend_mean = future_only[future_only['weekday'] >= 5]['yhat'].mean()\n",
    "\n",
    "# 4. Lowest demand window (for maintenance)\n",
    "low_period = (\n",
    "    future_only.sort_values('yhat')\n",
    "    .head(5)['ds']\n",
    "    .dt.strftime('%B %d')\n",
    "    .tolist()\n",
    ")\n",
    "\n",
    "# 5. Output Recommendations\n",
    "print(\"🔹 Predicted peak demand will occur in\", pd.to_datetime(f'2024-{peak_month}-01').strftime('%B') + \n",
    "      \". Recommend increasing capacity during this period.\")\n",
    "\n",
    "if weekday_mean > weekend_mean + 1:  # 1 kWh margin\n",
    "    print(\"🔹 Weekday energy usage is higher than weekends. Recommend surge buffers Mon–Fri.\")\n",
    "\n",
    "print(f\"🔹 Lowest demand is forecasted around: {', '.join(low_period)}. Good window for maintenance scheduling.\")\n"
   ]
  },
  {
   "cell_type": "markdown",
   "id": "23df5002",
   "metadata": {},
   "source": [
    "## ARIMA"
   ]
  },
  {
   "cell_type": "code",
   "execution_count": 35,
   "id": "5db50853",
   "metadata": {},
   "outputs": [],
   "source": [
    "# Rebuild daily_df with daily sum\n",
    "daily_df_arima = prophet_df.resample('D', on='ds').mean().reset_index()\n",
    "daily_df_arima .rename(columns={'ds': 'Date', 'y': 'Consumption'}, inplace=True)\n",
    "daily_series = daily_df_arima.set_index('Date')['Consumption']\n",
    "daily_series.index.freq = 'D'"
   ]
  },
  {
   "cell_type": "code",
   "execution_count": 36,
   "id": "75e47825",
   "metadata": {},
   "outputs": [
    {
     "data": {
      "image/png": "[encoded data removed]",
      "text/plain": [
       "<Figure size 640x480 with 4 Axes>"
      ]
     },
     "metadata": {},
     "output_type": "display_data"
    }
   ],
   "source": [
    "from statsmodels.tsa.seasonal import seasonal_decompose\n",
    "import matplotlib.pyplot as plt\n",
    "\n",
    "decomp = seasonal_decompose(daily_series, model='additive', period=7)  # Weekly seasonality\n",
    "\n",
    "decomp.plot()\n",
    "plt.tight_layout()\n",
    "plt.show()"
   ]
  },
  {
   "cell_type": "code",
   "execution_count": 37,
   "id": "13d0cb25",
   "metadata": {},
   "outputs": [
    {
     "name": "stdout",
     "output_type": "stream",
     "text": [
      "ADF Test p-value: 0.0\n",
      "KPSS Test p-value: 0.1\n",
      "PP Test p-value: 0.0\n"
     ]
    },
    {
     "name": "stderr",
     "output_type": "stream",
     "text": [
      "C:\\Users\\Shazil Naeem\\AppData\\Local\\Temp\\ipykernel_7392\\3288823933.py:9: InterpolationWarning: The test statistic is outside of the range of p-values available in the\n",
      "look-up table. The actual p-value is greater than the p-value returned.\n",
      "\n",
      "  kpss_result = kpss(daily_series, regression='c')\n"
     ]
    }
   ],
   "source": [
    "from statsmodels.tsa.stattools import adfuller, kpss\n",
    "from arch.unitroot import PhillipsPerron\n",
    "\n",
    "# ADF Test (null: non-stationary)\n",
    "adf_result = adfuller(daily_series)\n",
    "print(\"ADF Test p-value:\", adf_result[1])\n",
    "\n",
    "# KPSS Test (null: stationary)\n",
    "kpss_result = kpss(daily_series, regression='c')\n",
    "print(\"KPSS Test p-value:\", kpss_result[1])\n",
    "\n",
    "# PP Test (null: non-stationary)\n",
    "pp_result = PhillipsPerron(daily_series)\n",
    "print(\"PP Test p-value:\", pp_result.pvalue)"
   ]
  },
  {
   "cell_type": "code",
   "execution_count": 38,
   "id": "a02d164f",
   "metadata": {},
   "outputs": [],
   "source": [
    "from statsmodels.tsa.arima.model import ARIMA\n",
    "import pandas as pd\n",
    "import plotly.graph_objects as go\n",
    "\n",
    "# Fit on full series with no differencing\n",
    "model = ARIMA(daily_series, order=(5, 0, 2))\n",
    "model_fit = model.fit()\n",
    "\n",
    "# Forecast 90 days\n",
    "forecast_90 = model_fit.forecast(steps=90)\n",
    "future_dates = pd.date_range(start=daily_series.index.max() + pd.Timedelta(days=1), periods=90)\n",
    "\n",
    "# Combine forecast\n",
    "forecast_df = pd.DataFrame({\n",
    "    'ds': future_dates,\n",
    "    'yhat': forecast_90\n",
    "})"
   ]
  },
  {
   "cell_type": "code",
   "execution_count": 39,
   "id": "62cf2eaf",
   "metadata": {},
   "outputs": [
    {
     "data": {
      "application/vnd.plotly.v1+json": {
       "config": {
        "plotlyServerURL": "https://plot.ly"
       },
       "data": [
        {
         "line": {
          "color": "lightblue"
         },
         "name": "Historical (Daily Sum)",
         "type": "scatter",
         "x": [
          "2022-01-01T00:00:00.000000000",
          "2022-01-02T00:00:00.000000000",
          "2022-01-03T00:00:00.000000000",
          "2022-01-04T00:00:00.000000000",
          "2022-01-05T00:00:00.000000000",
          "2022-01-06T00:00:00.000000000",
          "2022-01-07T00:00:00.000000000",
          "2022-01-08T00:00:00.000000000",
          "2022-01-09T00:00:00.000000000",
          "2022-01-10T00:00:00.000000000",
          "2022-01-11T00:00:00.000000000",
          "2022-01-12T00:00:00.000000000",
          "2022-01-13T00:00:00.000000000",
          "2022-01-14T00:00:00.000000000",
          "2022-01-15T00:00:00.000000000",
          "2022-01-16T00:00:00.000000000",
          "2022-01-17T00:00:00.000000000",
          "2022-01-18T00:00:00.000000000",
          "2022-01-19T00:00:00.000000000",
          "2022-01-20T00:00:00.000000000",
          "2022-01-21T00:00:00.000000000",
          "2022-01-22T00:00:00.000000000",
          "2022-01-23T00:00:00.000000000",
          "2022-01-24T00:00:00.000000000",
          "2022-01-25T00:00:00.000000000",
          "2022-01-26T00:00:00.000000000",
          "2022-01-27T00:00:00.000000000",
          "2022-01-28T00:00:00.000000000",
          "2022-01-29T00:00:00.000000000",
          "2022-01-30T00:00:00.000000000",
          "2022-01-31T00:00:00.000000000",
          "2022-02-01T00:00:00.000000000",
          "2022-02-02T00:00:00.000000000",
          "2022-02-03T00:00:00.000000000",
          "2022-02-04T00:00:00.000000000",
          "2022-02-05T00:00:00.000000000",
          "2022-02-06T00:00:00.000000000",
          "2022-02-07T00:00:00.000000000",
          "2022-02-08T00:00:00.000000000",
          "2022-02-09T00:00:00.000000000",
          "2022-02-10T00:00:00.000000000",
          "2022-02-11T00:00:00.000000000",
          "2022-02-12T00:00:00.000000000",
          "2022-02-13T00:00:00.000000000",
          "2022-02-14T00:00:00.000000000",
          "2022-02-15T00:00:00.000000000",
          "2022-02-16T00:00:00.000000000",
          "2022-02-17T00:00:00.000000000",
          "2022-02-18T00:00:00.000000000",
          "2022-02-19T00:00:00.000000000",
          "2022-02-20T00:00:00.000000000",
          "2022-02-21T00:00:00.000000000",
          "2022-02-22T00:00:00.000000000",
          "2022-02-23T00:00:00.000000000",
          "2022-02-24T00:00:00.000000000",
          "2022-02-25T00:00:00.000000000",
          "2022-02-26T00:00:00.000000000",
          "2022-02-27T00:00:00.000000000",
          "2022-02-28T00:00:00.000000000",
          "2022-03-01T00:00:00.000000000",
          "2022-03-02T00:00:00.000000000",
          "2022-03-03T00:00:00.000000000",
          "2022-03-04T00:00:00.000000000",
          "2022-03-05T00:00:00.000000000",
          "2022-03-06T00:00:00.000000000",
          "2022-03-07T00:00:00.000000000",
          "2022-03-08T00:00:00.000000000",
          "2022-03-09T00:00:00.000000000",
          "2022-03-10T00:00:00.000000000",
          "2022-03-11T00:00:00.000000000",
          "2022-03-12T00:00:00.000000000",
          "2022-03-13T00:00:00.000000000",
          "2022-03-14T00:00:00.000000000",
          "2022-03-15T00:00:00.000000000",
          "2022-03-16T00:00:00.000000000",
          "2022-03-17T00:00:00.000000000",
          "2022-03-18T00:00:00.000000000",
          "2022-03-19T00:00:00.000000000",
          "2022-03-20T00:00:00.000000000",
          "2022-03-21T00:00:00.000000000",
          "2022-03-22T00:00:00.000000000",
          "2022-03-23T00:00:00.000000000",
          "2022-03-24T00:00:00.000000000",
          "2022-03-25T00:00:00.000000000",
          "2022-03-26T00:00:00.000000000",
          "2022-03-27T00:00:00.000000000",
          "2022-03-28T00:00:00.000000000",
          "2022-03-29T00:00:00.000000000",
          "2022-03-30T00:00:00.000000000",
          "2022-03-31T00:00:00.000000000",
          "2022-04-01T00:00:00.000000000",
          "2022-04-02T00:00:00.000000000",
          "2022-04-03T00:00:00.000000000",
          "2022-04-04T00:00:00.000000000",
          "2022-04-05T00:00:00.000000000",
          "2022-04-06T00:00:00.000000000",
          "2022-04-07T00:00:00.000000000",
          "2022-04-08T00:00:00.000000000",
          "2022-04-09T00:00:00.000000000",
          "2022-04-10T00:00:00.000000000",
          "2022-04-11T00:00:00.000000000",
          "2022-04-12T00:00:00.000000000",
          "2022-04-13T00:00:00.000000000",
          "2022-04-14T00:00:00.000000000",
          "2022-04-15T00:00:00.000000000",
          "2022-04-16T00:00:00.000000000",
          "2022-04-17T00:00:00.000000000",
          "2022-04-18T00:00:00.000000000",
          "2022-04-19T00:00:00.000000000",
          "2022-04-20T00:00:00.000000000",
          "2022-04-21T00:00:00.000000000",
          "2022-04-22T00:00:00.000000000",
          "2022-04-23T00:00:00.000000000",
          "2022-04-24T00:00:00.000000000",
          "2022-04-25T00:00:00.000000000",
          "2022-04-26T00:00:00.000000000",
          "2022-04-27T00:00:00.000000000",
          "2022-04-28T00:00:00.000000000",
          "2022-04-29T00:00:00.000000000",
          "2022-04-30T00:00:00.000000000",
          "2022-05-01T00:00:00.000000000",
          "2022-05-02T00:00:00.000000000",
          "2022-05-03T00:00:00.000000000",
          "2022-05-04T00:00:00.000000000",
          "2022-05-05T00:00:00.000000000",
          "2022-05-06T00:00:00.000000000",
          "2022-05-07T00:00:00.000000000",
          "2022-05-08T00:00:00.000000000",
          "2022-05-09T00:00:00.000000000",
          "2022-05-10T00:00:00.000000000",
          "2022-05-11T00:00:00.000000000",
          "2022-05-12T00:00:00.000000000",
          "2022-05-13T00:00:00.000000000",
          "2022-05-14T00:00:00.000000000",
          "2022-05-15T00:00:00.000000000",
          "2022-05-16T00:00:00.000000000",
          "2022-05-17T00:00:00.000000000",
          "2022-05-18T00:00:00.000000000",
          "2022-05-19T00:00:00.000000000",
          "2022-05-20T00:00:00.000000000",
          "2022-05-21T00:00:00.000000000",
          "2022-05-22T00:00:00.000000000",
          "2022-05-23T00:00:00.000000000",
          "2022-05-24T00:00:00.000000000",
          "2022-05-25T00:00:00.000000000",
          "2022-05-26T00:00:00.000000000",
          "2022-05-27T00:00:00.000000000",
          "2022-05-28T00:00:00.000000000",
          "2022-05-29T00:00:00.000000000",
          "2022-05-30T00:00:00.000000000",
          "2022-05-31T00:00:00.000000000",
          "2022-06-01T00:00:00.000000000",
          "2022-06-02T00:00:00.000000000",
          "2022-06-03T00:00:00.000000000",
          "2022-06-04T00:00:00.000000000",
          "2022-06-05T00:00:00.000000000",
          "2022-06-06T00:00:00.000000000",
          "2022-06-07T00:00:00.000000000",
          "2022-06-08T00:00:00.000000000",
          "2022-06-09T00:00:00.000000000",
          "2022-06-10T00:00:00.000000000",
          "2022-06-11T00:00:00.000000000",
          "2022-06-12T00:00:00.000000000",
          "2022-06-13T00:00:00.000000000",
          "2022-06-14T00:00:00.000000000",
          "2022-06-15T00:00:00.000000000",
          "2022-06-16T00:00:00.000000000",
          "2022-06-17T00:00:00.000000000",
          "2022-06-18T00:00:00.000000000",
          "2022-06-19T00:00:00.000000000",
          "2022-06-20T00:00:00.000000000",
          "2022-06-21T00:00:00.000000000",
          "2022-06-22T00:00:00.000000000",
          "2022-06-23T00:00:00.000000000",
          "2022-06-24T00:00:00.000000000",
          "2022-06-25T00:00:00.000000000",
          "2022-06-26T00:00:00.000000000",
          "2022-06-27T00:00:00.000000000",
          "2022-06-28T00:00:00.000000000",
          "2022-06-29T00:00:00.000000000",
          "2022-06-30T00:00:00.000000000",
          "2022-07-01T00:00:00.000000000",
          "2022-07-02T00:00:00.000000000",
          "2022-07-03T00:00:00.000000000",
          "2022-07-04T00:00:00.000000000",
          "2022-07-05T00:00:00.000000000",
          "2022-07-06T00:00:00.000000000",
          "2022-07-07T00:00:00.000000000",
          "2022-07-08T00:00:00.000000000",
          "2022-07-09T00:00:00.000000000",
          "2022-07-10T00:00:00.000000000",
          "2022-07-11T00:00:00.000000000",
          "2022-07-12T00:00:00.000000000",
          "2022-07-13T00:00:00.000000000",
          "2022-07-14T00:00:00.000000000",
          "2022-07-15T00:00:00.000000000",
          "2022-07-16T00:00:00.000000000",
          "2022-07-17T00:00:00.000000000",
          "2022-07-18T00:00:00.000000000",
          "2022-07-19T00:00:00.000000000",
          "2022-07-20T00:00:00.000000000",
          "2022-07-21T00:00:00.000000000",
          "2022-07-22T00:00:00.000000000",
          "2022-07-23T00:00:00.000000000",
          "2022-07-24T00:00:00.000000000",
          "2022-07-25T00:00:00.000000000",
          "2022-07-26T00:00:00.000000000",
          "2022-07-27T00:00:00.000000000",
          "2022-07-28T00:00:00.000000000",
          "2022-07-29T00:00:00.000000000",
          "2022-07-30T00:00:00.000000000",
          "2022-07-31T00:00:00.000000000",
          "2022-08-01T00:00:00.000000000",
          "2022-08-02T00:00:00.000000000",
          "2022-08-03T00:00:00.000000000",
          "2022-08-04T00:00:00.000000000",
          "2022-08-05T00:00:00.000000000",
          "2022-08-06T00:00:00.000000000",
          "2022-08-07T00:00:00.000000000",
          "2022-08-08T00:00:00.000000000",
          "2022-08-09T00:00:00.000000000",
          "2022-08-10T00:00:00.000000000",
          "2022-08-11T00:00:00.000000000",
          "2022-08-12T00:00:00.000000000",
          "2022-08-13T00:00:00.000000000",
          "2022-08-14T00:00:00.000000000",
          "2022-08-15T00:00:00.000000000",
          "2022-08-16T00:00:00.000000000",
          "2022-08-17T00:00:00.000000000",
          "2022-08-18T00:00:00.000000000",
          "2022-08-19T00:00:00.000000000",
          "2022-08-20T00:00:00.000000000",
          "2022-08-21T00:00:00.000000000",
          "2022-08-22T00:00:00.000000000",
          "2022-08-23T00:00:00.000000000",
          "2022-08-24T00:00:00.000000000",
          "2022-08-25T00:00:00.000000000",
          "2022-08-26T00:00:00.000000000",
          "2022-08-27T00:00:00.000000000",
          "2022-08-28T00:00:00.000000000",
          "2022-08-29T00:00:00.000000000",
          "2022-08-30T00:00:00.000000000",
          "2022-08-31T00:00:00.000000000",
          "2022-09-01T00:00:00.000000000",
          "2022-09-02T00:00:00.000000000",
          "2022-09-03T00:00:00.000000000",
          "2022-09-04T00:00:00.000000000",
          "2022-09-05T00:00:00.000000000",
          "2022-09-06T00:00:00.000000000",
          "2022-09-07T00:00:00.000000000",
          "2022-09-08T00:00:00.000000000",
          "2022-09-09T00:00:00.000000000",
          "2022-09-10T00:00:00.000000000",
          "2022-09-11T00:00:00.000000000",
          "2022-09-12T00:00:00.000000000",
          "2022-09-13T00:00:00.000000000",
          "2022-09-14T00:00:00.000000000",
          "2022-09-15T00:00:00.000000000",
          "2022-09-16T00:00:00.000000000",
          "2022-09-17T00:00:00.000000000",
          "2022-09-18T00:00:00.000000000",
          "2022-09-19T00:00:00.000000000",
          "2022-09-20T00:00:00.000000000",
          "2022-09-21T00:00:00.000000000",
          "2022-09-22T00:00:00.000000000",
          "2022-09-23T00:00:00.000000000",
          "2022-09-24T00:00:00.000000000",
          "2022-09-25T00:00:00.000000000",
          "2022-09-26T00:00:00.000000000",
          "2022-09-27T00:00:00.000000000",
          "2022-09-28T00:00:00.000000000",
          "2022-09-29T00:00:00.000000000",
          "2022-09-30T00:00:00.000000000",
          "2022-10-01T00:00:00.000000000",
          "2022-10-02T00:00:00.000000000",
          "2022-10-03T00:00:00.000000000",
          "2022-10-04T00:00:00.000000000",
          "2022-10-05T00:00:00.000000000",
          "2022-10-06T00:00:00.000000000",
          "2022-10-07T00:00:00.000000000",
          "2022-10-08T00:00:00.000000000",
          "2022-10-09T00:00:00.000000000",
          "2022-10-10T00:00:00.000000000",
          "2022-10-11T00:00:00.000000000",
          "2022-10-12T00:00:00.000000000",
          "2022-10-13T00:00:00.000000000",
          "2022-10-14T00:00:00.000000000",
          "2022-10-15T00:00:00.000000000",
          "2022-10-16T00:00:00.000000000",
          "2022-10-17T00:00:00.000000000",
          "2022-10-18T00:00:00.000000000",
          "2022-10-19T00:00:00.000000000",
          "2022-10-20T00:00:00.000000000",
          "2022-10-21T00:00:00.000000000",
          "2022-10-22T00:00:00.000000000",
          "2022-10-23T00:00:00.000000000",
          "2022-10-24T00:00:00.000000000",
          "2022-10-25T00:00:00.000000000",
          "2022-10-26T00:00:00.000000000",
          "2022-10-27T00:00:00.000000000",
          "2022-10-28T00:00:00.000000000",
          "2022-10-29T00:00:00.000000000",
          "2022-10-30T00:00:00.000000000",
          "2022-10-31T00:00:00.000000000",
          "2022-11-01T00:00:00.000000000",
          "2022-11-02T00:00:00.000000000",
          "2022-11-03T00:00:00.000000000",
          "2022-11-04T00:00:00.000000000",
          "2022-11-05T00:00:00.000000000",
          "2022-11-06T00:00:00.000000000",
          "2022-11-07T00:00:00.000000000",
          "2022-11-08T00:00:00.000000000",
          "2022-11-09T00:00:00.000000000",
          "2022-11-10T00:00:00.000000000",
          "2022-11-11T00:00:00.000000000",
          "2022-11-12T00:00:00.000000000",
          "2022-11-13T00:00:00.000000000",
          "2022-11-14T00:00:00.000000000",
          "2022-11-15T00:00:00.000000000",
          "2022-11-16T00:00:00.000000000",
          "2022-11-17T00:00:00.000000000",
          "2022-11-18T00:00:00.000000000",
          "2022-11-19T00:00:00.000000000",
          "2022-11-20T00:00:00.000000000",
          "2022-11-21T00:00:00.000000000",
          "2022-11-22T00:00:00.000000000",
          "2022-11-23T00:00:00.000000000",
          "2022-11-24T00:00:00.000000000",
          "2022-11-25T00:00:00.000000000",
          "2022-11-26T00:00:00.000000000",
          "2022-11-27T00:00:00.000000000",
          "2022-11-28T00:00:00.000000000",
          "2022-11-29T00:00:00.000000000",
          "2022-11-30T00:00:00.000000000",
          "2022-12-01T00:00:00.000000000",
          "2022-12-02T00:00:00.000000000",
          "2022-12-03T00:00:00.000000000",
          "2022-12-04T00:00:00.000000000",
          "2022-12-05T00:00:00.000000000",
          "2022-12-06T00:00:00.000000000",
          "2022-12-07T00:00:00.000000000",
          "2022-12-08T00:00:00.000000000",
          "2022-12-09T00:00:00.000000000",
          "2022-12-10T00:00:00.000000000",
          "2022-12-11T00:00:00.000000000",
          "2022-12-12T00:00:00.000000000",
          "2022-12-13T00:00:00.000000000",
          "2022-12-14T00:00:00.000000000",
          "2022-12-15T00:00:00.000000000",
          "2022-12-16T00:00:00.000000000",
          "2022-12-17T00:00:00.000000000",
          "2022-12-18T00:00:00.000000000",
          "2022-12-19T00:00:00.000000000",
          "2022-12-20T00:00:00.000000000",
          "2022-12-21T00:00:00.000000000",
          "2022-12-22T00:00:00.000000000",
          "2022-12-23T00:00:00.000000000",
          "2022-12-24T00:00:00.000000000",
          "2022-12-25T00:00:00.000000000",
          "2022-12-26T00:00:00.000000000",
          "2022-12-27T00:00:00.000000000",
          "2022-12-28T00:00:00.000000000",
          "2022-12-29T00:00:00.000000000",
          "2022-12-30T00:00:00.000000000",
          "2022-12-31T00:00:00.000000000",
          "2023-01-01T00:00:00.000000000",
          "2023-01-02T00:00:00.000000000",
          "2023-01-03T00:00:00.000000000",
          "2023-01-04T00:00:00.000000000",
          "2023-01-05T00:00:00.000000000",
          "2023-01-06T00:00:00.000000000",
          "2023-01-07T00:00:00.000000000",
          "2023-01-08T00:00:00.000000000",
          "2023-01-09T00:00:00.000000000",
          "2023-01-10T00:00:00.000000000",
          "2023-01-11T00:00:00.000000000",
          "2023-01-12T00:00:00.000000000",
          "2023-01-13T00:00:00.000000000",
          "2023-01-14T00:00:00.000000000",
          "2023-01-15T00:00:00.000000000",
          "2023-01-16T00:00:00.000000000",
          "2023-01-17T00:00:00.000000000",
          "2023-01-18T00:00:00.000000000",
          "2023-01-19T00:00:00.000000000",
          "2023-01-20T00:00:00.000000000",
          "2023-01-21T00:00:00.000000000",
          "2023-01-22T00:00:00.000000000",
          "2023-01-23T00:00:00.000000000",
          "2023-01-24T00:00:00.000000000",
          "2023-01-25T00:00:00.000000000",
          "2023-01-26T00:00:00.000000000",
          "2023-01-27T00:00:00.000000000",
          "2023-01-28T00:00:00.000000000",
          "2023-01-29T00:00:00.000000000",
          "2023-01-30T00:00:00.000000000",
          "2023-01-31T00:00:00.000000000",
          "2023-02-01T00:00:00.000000000",
          "2023-02-02T00:00:00.000000000",
          "2023-02-03T00:00:00.000000000",
          "2023-02-04T00:00:00.000000000",
          "2023-02-05T00:00:00.000000000",
          "2023-02-06T00:00:00.000000000",
          "2023-02-07T00:00:00.000000000",
          "2023-02-08T00:00:00.000000000",
          "2023-02-09T00:00:00.000000000",
          "2023-02-10T00:00:00.000000000",
          "2023-02-11T00:00:00.000000000",
          "2023-02-12T00:00:00.000000000",
          "2023-02-13T00:00:00.000000000",
          "2023-02-14T00:00:00.000000000",
          "2023-02-15T00:00:00.000000000",
          "2023-02-16T00:00:00.000000000",
          "2023-02-17T00:00:00.000000000",
          "2023-02-18T00:00:00.000000000",
          "2023-02-19T00:00:00.000000000",
          "2023-02-20T00:00:00.000000000",
          "2023-02-21T00:00:00.000000000",
          "2023-02-22T00:00:00.000000000",
          "2023-02-23T00:00:00.000000000",
          "2023-02-24T00:00:00.000000000",
          "2023-02-25T00:00:00.000000000",
          "2023-02-26T00:00:00.000000000",
          "2023-02-27T00:00:00.000000000",
          "2023-02-28T00:00:00.000000000",
          "2023-03-01T00:00:00.000000000",
          "2023-03-02T00:00:00.000000000",
          "2023-03-03T00:00:00.000000000",
          "2023-03-04T00:00:00.000000000",
          "2023-03-05T00:00:00.000000000",
          "2023-03-06T00:00:00.000000000",
          "2023-03-07T00:00:00.000000000",
          "2023-03-08T00:00:00.000000000",
          "2023-03-09T00:00:00.000000000",
          "2023-03-10T00:00:00.000000000",
          "2023-03-11T00:00:00.000000000",
          "2023-03-12T00:00:00.000000000",
          "2023-03-13T00:00:00.000000000",
          "2023-03-14T00:00:00.000000000",
          "2023-03-15T00:00:00.000000000",
          "2023-03-16T00:00:00.000000000",
          "2023-03-17T00:00:00.000000000",
          "2023-03-18T00:00:00.000000000",
          "2023-03-19T00:00:00.000000000",
          "2023-03-20T00:00:00.000000000",
          "2023-03-21T00:00:00.000000000",
          "2023-03-22T00:00:00.000000000",
          "2023-03-23T00:00:00.000000000",
          "2023-03-24T00:00:00.000000000",
          "2023-03-25T00:00:00.000000000",
          "2023-03-26T00:00:00.000000000",
          "2023-03-27T00:00:00.000000000",
          "2023-03-28T00:00:00.000000000",
          "2023-03-29T00:00:00.000000000",
          "2023-03-30T00:00:00.000000000",
          "2023-03-31T00:00:00.000000000",
          "2023-04-01T00:00:00.000000000",
          "2023-04-02T00:00:00.000000000",
          "2023-04-03T00:00:00.000000000",
          "2023-04-04T00:00:00.000000000",
          "2023-04-05T00:00:00.000000000",
          "2023-04-06T00:00:00.000000000",
          "2023-04-07T00:00:00.000000000",
          "2023-04-08T00:00:00.000000000",
          "2023-04-09T00:00:00.000000000",
          "2023-04-10T00:00:00.000000000",
          "2023-04-11T00:00:00.000000000",
          "2023-04-12T00:00:00.000000000",
          "2023-04-13T00:00:00.000000000",
          "2023-04-14T00:00:00.000000000",
          "2023-04-15T00:00:00.000000000",
          "2023-04-16T00:00:00.000000000",
          "2023-04-17T00:00:00.000000000",
          "2023-04-18T00:00:00.000000000",
          "2023-04-19T00:00:00.000000000",
          "2023-04-20T00:00:00.000000000",
          "2023-04-21T00:00:00.000000000",
          "2023-04-22T00:00:00.000000000",
          "2023-04-23T00:00:00.000000000",
          "2023-04-24T00:00:00.000000000",
          "2023-04-25T00:00:00.000000000",
          "2023-04-26T00:00:00.000000000",
          "2023-04-27T00:00:00.000000000",
          "2023-04-28T00:00:00.000000000",
          "2023-04-29T00:00:00.000000000",
          "2023-04-30T00:00:00.000000000",
          "2023-05-01T00:00:00.000000000",
          "2023-05-02T00:00:00.000000000",
          "2023-05-03T00:00:00.000000000",
          "2023-05-04T00:00:00.000000000",
          "2023-05-05T00:00:00.000000000",
          "2023-05-06T00:00:00.000000000",
          "2023-05-07T00:00:00.000000000",
          "2023-05-08T00:00:00.000000000",
          "2023-05-09T00:00:00.000000000",
          "2023-05-10T00:00:00.000000000",
          "2023-05-11T00:00:00.000000000",
          "2023-05-12T00:00:00.000000000",
          "2023-05-13T00:00:00.000000000",
          "2023-05-14T00:00:00.000000000",
          "2023-05-15T00:00:00.000000000",
          "2023-05-16T00:00:00.000000000",
          "2023-05-17T00:00:00.000000000",
          "2023-05-18T00:00:00.000000000",
          "2023-05-19T00:00:00.000000000",
          "2023-05-20T00:00:00.000000000",
          "2023-05-21T00:00:00.000000000",
          "2023-05-22T00:00:00.000000000",
          "2023-05-23T00:00:00.000000000",
          "2023-05-24T00:00:00.000000000",
          "2023-05-25T00:00:00.000000000",
          "2023-05-26T00:00:00.000000000",
          "2023-05-27T00:00:00.000000000",
          "2023-05-28T00:00:00.000000000",
          "2023-05-29T00:00:00.000000000",
          "2023-05-30T00:00:00.000000000",
          "2023-05-31T00:00:00.000000000",
          "2023-06-01T00:00:00.000000000",
          "2023-06-02T00:00:00.000000000",
          "2023-06-03T00:00:00.000000000",
          "2023-06-04T00:00:00.000000000",
          "2023-06-05T00:00:00.000000000",
          "2023-06-06T00:00:00.000000000",
          "2023-06-07T00:00:00.000000000",
          "2023-06-08T00:00:00.000000000",
          "2023-06-09T00:00:00.000000000",
          "2023-06-10T00:00:00.000000000",
          "2023-06-11T00:00:00.000000000",
          "2023-06-12T00:00:00.000000000",
          "2023-06-13T00:00:00.000000000",
          "2023-06-14T00:00:00.000000000",
          "2023-06-15T00:00:00.000000000",
          "2023-06-16T00:00:00.000000000",
          "2023-06-17T00:00:00.000000000",
          "2023-06-18T00:00:00.000000000",
          "2023-06-19T00:00:00.000000000",
          "2023-06-20T00:00:00.000000000",
          "2023-06-21T00:00:00.000000000",
          "2023-06-22T00:00:00.000000000",
          "2023-06-23T00:00:00.000000000",
          "2023-06-24T00:00:00.000000000",
          "2023-06-25T00:00:00.000000000",
          "2023-06-26T00:00:00.000000000",
          "2023-06-27T00:00:00.000000000",
          "2023-06-28T00:00:00.000000000",
          "2023-06-29T00:00:00.000000000",
          "2023-06-30T00:00:00.000000000",
          "2023-07-01T00:00:00.000000000",
          "2023-07-02T00:00:00.000000000",
          "2023-07-03T00:00:00.000000000",
          "2023-07-04T00:00:00.000000000",
          "2023-07-05T00:00:00.000000000",
          "2023-07-06T00:00:00.000000000",
          "2023-07-07T00:00:00.000000000",
          "2023-07-08T00:00:00.000000000",
          "2023-07-09T00:00:00.000000000",
          "2023-07-10T00:00:00.000000000",
          "2023-07-11T00:00:00.000000000",
          "2023-07-12T00:00:00.000000000",
          "2023-07-13T00:00:00.000000000",
          "2023-07-14T00:00:00.000000000",
          "2023-07-15T00:00:00.000000000",
          "2023-07-16T00:00:00.000000000",
          "2023-07-17T00:00:00.000000000",
          "2023-07-18T00:00:00.000000000",
          "2023-07-19T00:00:00.000000000",
          "2023-07-20T00:00:00.000000000",
          "2023-07-21T00:00:00.000000000",
          "2023-07-22T00:00:00.000000000",
          "2023-07-23T00:00:00.000000000",
          "2023-07-24T00:00:00.000000000",
          "2023-07-25T00:00:00.000000000",
          "2023-07-26T00:00:00.000000000",
          "2023-07-27T00:00:00.000000000",
          "2023-07-28T00:00:00.000000000",
          "2023-07-29T00:00:00.000000000",
          "2023-07-30T00:00:00.000000000",
          "2023-07-31T00:00:00.000000000",
          "2023-08-01T00:00:00.000000000",
          "2023-08-02T00:00:00.000000000",
          "2023-08-03T00:00:00.000000000",
          "2023-08-04T00:00:00.000000000",
          "2023-08-05T00:00:00.000000000",
          "2023-08-06T00:00:00.000000000",
          "2023-08-07T00:00:00.000000000",
          "2023-08-08T00:00:00.000000000",
          "2023-08-09T00:00:00.000000000",
          "2023-08-10T00:00:00.000000000",
          "2023-08-11T00:00:00.000000000",
          "2023-08-12T00:00:00.000000000",
          "2023-08-13T00:00:00.000000000",
          "2023-08-14T00:00:00.000000000",
          "2023-08-15T00:00:00.000000000",
          "2023-08-16T00:00:00.000000000",
          "2023-08-17T00:00:00.000000000",
          "2023-08-18T00:00:00.000000000",
          "2023-08-19T00:00:00.000000000",
          "2023-08-20T00:00:00.000000000",
          "2023-08-21T00:00:00.000000000",
          "2023-08-22T00:00:00.000000000",
          "2023-08-23T00:00:00.000000000",
          "2023-08-24T00:00:00.000000000",
          "2023-08-25T00:00:00.000000000",
          "2023-08-26T00:00:00.000000000",
          "2023-08-27T00:00:00.000000000",
          "2023-08-28T00:00:00.000000000",
          "2023-08-29T00:00:00.000000000",
          "2023-08-30T00:00:00.000000000",
          "2023-08-31T00:00:00.000000000",
          "2023-09-01T00:00:00.000000000",
          "2023-09-02T00:00:00.000000000",
          "2023-09-03T00:00:00.000000000",
          "2023-09-04T00:00:00.000000000",
          "2023-09-05T00:00:00.000000000",
          "2023-09-06T00:00:00.000000000",
          "2023-09-07T00:00:00.000000000",
          "2023-09-08T00:00:00.000000000",
          "2023-09-09T00:00:00.000000000",
          "2023-09-10T00:00:00.000000000",
          "2023-09-11T00:00:00.000000000",
          "2023-09-12T00:00:00.000000000",
          "2023-09-13T00:00:00.000000000",
          "2023-09-14T00:00:00.000000000",
          "2023-09-15T00:00:00.000000000",
          "2023-09-16T00:00:00.000000000",
          "2023-09-17T00:00:00.000000000",
          "2023-09-18T00:00:00.000000000",
          "2023-09-19T00:00:00.000000000",
          "2023-09-20T00:00:00.000000000",
          "2023-09-21T00:00:00.000000000",
          "2023-09-22T00:00:00.000000000",
          "2023-09-23T00:00:00.000000000",
          "2023-09-24T00:00:00.000000000",
          "2023-09-25T00:00:00.000000000",
          "2023-09-26T00:00:00.000000000",
          "2023-09-27T00:00:00.000000000",
          "2023-09-28T00:00:00.000000000",
          "2023-09-29T00:00:00.000000000",
          "2023-09-30T00:00:00.000000000",
          "2023-10-01T00:00:00.000000000",
          "2023-10-02T00:00:00.000000000",
          "2023-10-03T00:00:00.000000000",
          "2023-10-04T00:00:00.000000000",
          "2023-10-05T00:00:00.000000000",
          "2023-10-06T00:00:00.000000000",
          "2023-10-07T00:00:00.000000000",
          "2023-10-08T00:00:00.000000000",
          "2023-10-09T00:00:00.000000000",
          "2023-10-10T00:00:00.000000000",
          "2023-10-11T00:00:00.000000000",
          "2023-10-12T00:00:00.000000000",
          "2023-10-13T00:00:00.000000000",
          "2023-10-14T00:00:00.000000000",
          "2023-10-15T00:00:00.000000000",
          "2023-10-16T00:00:00.000000000",
          "2023-10-17T00:00:00.000000000",
          "2023-10-18T00:00:00.000000000",
          "2023-10-19T00:00:00.000000000",
          "2023-10-20T00:00:00.000000000",
          "2023-10-21T00:00:00.000000000",
          "2023-10-22T00:00:00.000000000",
          "2023-10-23T00:00:00.000000000",
          "2023-10-24T00:00:00.000000000",
          "2023-10-25T00:00:00.000000000",
          "2023-10-26T00:00:00.000000000",
          "2023-10-27T00:00:00.000000000",
          "2023-10-28T00:00:00.000000000",
          "2023-10-29T00:00:00.000000000",
          "2023-10-30T00:00:00.000000000",
          "2023-10-31T00:00:00.000000000",
          "2023-11-01T00:00:00.000000000",
          "2023-11-02T00:00:00.000000000",
          "2023-11-03T00:00:00.000000000",
          "2023-11-04T00:00:00.000000000",
          "2023-11-05T00:00:00.000000000",
          "2023-11-06T00:00:00.000000000",
          "2023-11-07T00:00:00.000000000",
          "2023-11-08T00:00:00.000000000",
          "2023-11-09T00:00:00.000000000",
          "2023-11-10T00:00:00.000000000",
          "2023-11-11T00:00:00.000000000",
          "2023-11-12T00:00:00.000000000",
          "2023-11-13T00:00:00.000000000",
          "2023-11-14T00:00:00.000000000",
          "2023-11-15T00:00:00.000000000",
          "2023-11-16T00:00:00.000000000",
          "2023-11-17T00:00:00.000000000",
          "2023-11-18T00:00:00.000000000",
          "2023-11-19T00:00:00.000000000",
          "2023-11-20T00:00:00.000000000",
          "2023-11-21T00:00:00.000000000",
          "2023-11-22T00:00:00.000000000",
          "2023-11-23T00:00:00.000000000",
          "2023-11-24T00:00:00.000000000",
          "2023-11-25T00:00:00.000000000",
          "2023-11-26T00:00:00.000000000",
          "2023-11-27T00:00:00.000000000",
          "2023-11-28T00:00:00.000000000",
          "2023-11-29T00:00:00.000000000",
          "2023-11-30T00:00:00.000000000",
          "2023-12-01T00:00:00.000000000",
          "2023-12-02T00:00:00.000000000",
          "2023-12-03T00:00:00.000000000",
          "2023-12-04T00:00:00.000000000",
          "2023-12-05T00:00:00.000000000",
          "2023-12-06T00:00:00.000000000",
          "2023-12-07T00:00:00.000000000",
          "2023-12-08T00:00:00.000000000",
          "2023-12-09T00:00:00.000000000",
          "2023-12-10T00:00:00.000000000",
          "2023-12-11T00:00:00.000000000",
          "2023-12-12T00:00:00.000000000",
          "2023-12-13T00:00:00.000000000",
          "2023-12-14T00:00:00.000000000",
          "2023-12-15T00:00:00.000000000",
          "2023-12-16T00:00:00.000000000",
          "2023-12-17T00:00:00.000000000",
          "2023-12-18T00:00:00.000000000",
          "2023-12-19T00:00:00.000000000",
          "2023-12-20T00:00:00.000000000",
          "2023-12-21T00:00:00.000000000",
          "2023-12-22T00:00:00.000000000",
          "2023-12-23T00:00:00.000000000",
          "2023-12-24T00:00:00.000000000",
          "2023-12-25T00:00:00.000000000",
          "2023-12-26T00:00:00.000000000",
          "2023-12-27T00:00:00.000000000",
          "2023-12-28T00:00:00.000000000",
          "2023-12-29T00:00:00.000000000",
          "2023-12-30T00:00:00.000000000",
          "2023-12-31T00:00:00.000000000"
         ],
         "y": {
          "bdata": "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",
          "dtype": "f8"
         }
        },
        {
         "line": {
          "color": "orange"
         },
         "name": "ARIMA Forecast (90 Days)",
         "type": "scatter",
         "x": [
          "2024-01-01T00:00:00.000000000",
          "2024-01-02T00:00:00.000000000",
          "2024-01-03T00:00:00.000000000",
          "2024-01-04T00:00:00.000000000",
          "2024-01-05T00:00:00.000000000",
          "2024-01-06T00:00:00.000000000",
          "2024-01-07T00:00:00.000000000",
          "2024-01-08T00:00:00.000000000",
          "2024-01-09T00:00:00.000000000",
          "2024-01-10T00:00:00.000000000",
          "2024-01-11T00:00:00.000000000",
          "2024-01-12T00:00:00.000000000",
          "2024-01-13T00:00:00.000000000",
          "2024-01-14T00:00:00.000000000",
          "2024-01-15T00:00:00.000000000",
          "2024-01-16T00:00:00.000000000",
          "2024-01-17T00:00:00.000000000",
          "2024-01-18T00:00:00.000000000",
          "2024-01-19T00:00:00.000000000",
          "2024-01-20T00:00:00.000000000",
          "2024-01-21T00:00:00.000000000",
          "2024-01-22T00:00:00.000000000",
          "2024-01-23T00:00:00.000000000",
          "2024-01-24T00:00:00.000000000",
          "2024-01-25T00:00:00.000000000",
          "2024-01-26T00:00:00.000000000",
          "2024-01-27T00:00:00.000000000",
          "2024-01-28T00:00:00.000000000",
          "2024-01-29T00:00:00.000000000",
          "2024-01-30T00:00:00.000000000",
          "2024-01-31T00:00:00.000000000",
          "2024-02-01T00:00:00.000000000",
          "2024-02-02T00:00:00.000000000",
          "2024-02-03T00:00:00.000000000",
          "2024-02-04T00:00:00.000000000",
          "2024-02-05T00:00:00.000000000",
          "2024-02-06T00:00:00.000000000",
          "2024-02-07T00:00:00.000000000",
          "2024-02-08T00:00:00.000000000",
          "2024-02-09T00:00:00.000000000",
          "2024-02-10T00:00:00.000000000",
          "2024-02-11T00:00:00.000000000",
          "2024-02-12T00:00:00.000000000",
          "2024-02-13T00:00:00.000000000",
          "2024-02-14T00:00:00.000000000",
          "2024-02-15T00:00:00.000000000",
          "2024-02-16T00:00:00.000000000",
          "2024-02-17T00:00:00.000000000",
          "2024-02-18T00:00:00.000000000",
          "2024-02-19T00:00:00.000000000",
          "2024-02-20T00:00:00.000000000",
          "2024-02-21T00:00:00.000000000",
          "2024-02-22T00:00:00.000000000",
          "2024-02-23T00:00:00.000000000",
          "2024-02-24T00:00:00.000000000",
          "2024-02-25T00:00:00.000000000",
          "2024-02-26T00:00:00.000000000",
          "2024-02-27T00:00:00.000000000",
          "2024-02-28T00:00:00.000000000",
          "2024-02-29T00:00:00.000000000",
          "2024-03-01T00:00:00.000000000",
          "2024-03-02T00:00:00.000000000",
          "2024-03-03T00:00:00.000000000",
          "2024-03-04T00:00:00.000000000",
          "2024-03-05T00:00:00.000000000",
          "2024-03-06T00:00:00.000000000",
          "2024-03-07T00:00:00.000000000",
          "2024-03-08T00:00:00.000000000",
          "2024-03-09T00:00:00.000000000",
          "2024-03-10T00:00:00.000000000",
          "2024-03-11T00:00:00.000000000",
          "2024-03-12T00:00:00.000000000",
          "2024-03-13T00:00:00.000000000",
          "2024-03-14T00:00:00.000000000",
          "2024-03-15T00:00:00.000000000",
          "2024-03-16T00:00:00.000000000",
          "2024-03-17T00:00:00.000000000",
          "2024-03-18T00:00:00.000000000",
          "2024-03-19T00:00:00.000000000",
          "2024-03-20T00:00:00.000000000",
          "2024-03-21T00:00:00.000000000",
          "2024-03-22T00:00:00.000000000",
          "2024-03-23T00:00:00.000000000",
          "2024-03-24T00:00:00.000000000",
          "2024-03-25T00:00:00.000000000",
          "2024-03-26T00:00:00.000000000",
          "2024-03-27T00:00:00.000000000",
          "2024-03-28T00:00:00.000000000",
          "2024-03-29T00:00:00.000000000",
          "2024-03-30T00:00:00.000000000"
         ],
         "y": {
          "bdata": "kX32TCC1SECnolnLfctIQLUm00ixzUhA9Bqs4ufCSED+TqCDlHZIQPBCoME5r0hA9NWipaueSEA+/oASnq1IQElR2kA+rUhA3H0+Tje3SEA7bmMRILVIQK4vCHMvuUhAT5n+vkW4SEAMjVBXXrlIQO2zaa+XuEhAdT3viuq4SEBFqYPWbrhIQDsOg+d+uEhA7LmYAUa4SEC231PlTLhIQOovhS42uEhARUcUiDy4SEADYISKNbhIQP0rdkQ6uEhAaCy6nji4SECOPHZ2O7hIQN2JMh07uEhAvfTSdzy4SEBV755PPLhIQEkTcdQ8uEhAh38hrzy4SECm43nXPLhIQJ3vnro8uEhAs1vTwzy4SECFf7OyPLhIQAEbgLQ8uEhAksJprDy4SEBhn06tPLhIQHbdPqo8uEhAT1cfqzy4SEDhRDeqPLhIQCwn5qo8uEhAk3azqjy4SEBr0RqrPLhIQHGNEas8uEhAg91Bqzy4SEB2zjyrPLhIQHnVTqs8uEhAZ4tJqzy4SECrwE6rPLhIQHubSqs8uEhAJLBLqzy4SECLQEmrPLhIQCdvSas8uEhAlk5Iqzy4SEBLa0irPLhIQEABSKs8uEhAOCFIqzy4SEBhA0irPLhIQI0cSKs8uEhAtRZIqzy4SEBoJUirPLhIQIUkSKs8uEhAQCtIqzy4SECcKkirPLhIQAstSKs8uEhASixIqzy4SED0LEirPLhIQFssSKs8uEhAeyxIqzy4SEAiLEirPLhIQCYsSKs8uEhA/itIqzy4SEABLEirPLhIQPMrSKs8uEhA+CtIqzy4SED0K0irPLhIQPgrSKs8uEhA9ytIqzy4SED5K0irPLhIQPkrSKs8uEhA+itIqzy4SED6K0irPLhIQPorSKs8uEhA+itIqzy4SED6K0irPLhIQPorSKs8uEhA+itIqzy4SED6K0irPLhIQPorSKs8uEhA",
          "dtype": "f8"
         }
        }
       ],
       "layout": {
        "template": {
         "data": {
          "bar": [
           {
            "error_x": {
             "color": "#2a3f5f"
            },
            "error_y": {
             "color": "#2a3f5f"
            },
            "marker": {
             "line": {
              "color": "white",
              "width": 0.5
             },
             "pattern": {
              "fillmode": "overlay",
              "size": 10,
              "solidity": 0.2
             }
            },
            "type": "bar"
           }
          ],
          "barpolar": [
           {
            "marker": {
             "line": {
              "color": "white",
              "width": 0.5
             },
             "pattern": {
              "fillmode": "overlay",
              "size": 10,
              "solidity": 0.2
             }
            },
            "type": "barpolar"
           }
          ],
          "carpet": [
           {
            "aaxis": {
             "endlinecolor": "#2a3f5f",
             "gridcolor": "#C8D4E3",
             "linecolor": "#C8D4E3",
             "minorgridcolor": "#C8D4E3",
             "startlinecolor": "#2a3f5f"
            },
            "baxis": {
             "endlinecolor": "#2a3f5f",
             "gridcolor": "#C8D4E3",
             "linecolor": "#C8D4E3",
             "minorgridcolor": "#C8D4E3",
             "startlinecolor": "#2a3f5f"
            },
            "type": "carpet"
           }
          ],
          "choropleth": [
           {
            "colorbar": {
             "outlinewidth": 0,
             "ticks": ""
            },
            "type": "choropleth"
           }
          ],
          "contour": [
           {
            "colorbar": {
             "outlinewidth": 0,
             "ticks": ""
            },
            "colorscale": [
             [
              0,
              "#0d0887"
             ],
             [
              0.1111111111111111,
              "#46039f"
             ],
             [
              0.2222222222222222,
              "#7201a8"
             ],
             [
              0.3333333333333333,
              "#9c179e"
             ],
             [
              0.4444444444444444,
              "#bd3786"
             ],
             [
              0.5555555555555556,
              "#d8576b"
             ],
             [
              0.6666666666666666,
              "#ed7953"
             ],
             [
              0.7777777777777778,
              "#fb9f3a"
             ],
             [
              0.8888888888888888,
              "#fdca26"
             ],
             [
              1,
              "#f0f921"
             ]
            ],
            "type": "contour"
           }
          ],
          "contourcarpet": [
           {
            "colorbar": {
             "outlinewidth": 0,
             "ticks": ""
            },
            "type": "contourcarpet"
           }
          ],
          "heatmap": [
           {
            "colorbar": {
             "outlinewidth": 0,
             "ticks": ""
            },
            "colorscale": [
             [
              0,
              "#0d0887"
             ],
             [
              0.1111111111111111,
              "#46039f"
             ],
             [
              0.2222222222222222,
              "#7201a8"
             ],
             [
              0.3333333333333333,
              "#9c179e"
             ],
             [
              0.4444444444444444,
              "#bd3786"
             ],
             [
              0.5555555555555556,
              "#d8576b"
             ],
             [
              0.6666666666666666,
              "#ed7953"
             ],
             [
              0.7777777777777778,
              "#fb9f3a"
             ],
             [
              0.8888888888888888,
              "#fdca26"
             ],
             [
              1,
              "#f0f921"
             ]
            ],
            "type": "heatmap"
           }
          ],
          "histogram": [
           {
            "marker": {
             "pattern": {
              "fillmode": "overlay",
              "size": 10,
              "solidity": 0.2
             }
            },
            "type": "histogram"
           }
          ],
          "histogram2d": [
           {
            "colorbar": {
             "outlinewidth": 0,
             "ticks": ""
            },
            "colorscale": [
             [
              0,
              "#0d0887"
             ],
             [
              0.1111111111111111,
              "#46039f"
             ],
             [
              0.2222222222222222,
              "#7201a8"
             ],
             [
              0.3333333333333333,
              "#9c179e"
             ],
             [
              0.4444444444444444,
              "#bd3786"
             ],
             [
              0.5555555555555556,
              "#d8576b"
             ],
             [
              0.6666666666666666,
              "#ed7953"
             ],
             [
              0.7777777777777778,
              "#fb9f3a"
             ],
             [
              0.8888888888888888,
              "#fdca26"
             ],
             [
              1,
              "#f0f921"
             ]
            ],
            "type": "histogram2d"
           }
          ],
          "histogram2dcontour": [
           {
            "colorbar": {
             "outlinewidth": 0,
             "ticks": ""
            },
            "colorscale": [
             [
              0,
              "#0d0887"
             ],
             [
              0.1111111111111111,
              "#46039f"
             ],
             [
              0.2222222222222222,
              "#7201a8"
             ],
             [
              0.3333333333333333,
              "#9c179e"
             ],
             [
              0.4444444444444444,
              "#bd3786"
             ],
             [
              0.5555555555555556,
              "#d8576b"
             ],
             [
              0.6666666666666666,
              "#ed7953"
             ],
             [
              0.7777777777777778,
              "#fb9f3a"
             ],
             [
              0.8888888888888888,
              "#fdca26"
             ],
             [
              1,
              "#f0f921"
             ]
            ],
            "type": "histogram2dcontour"
           }
          ],
          "mesh3d": [
           {
            "colorbar": {
             "outlinewidth": 0,
             "ticks": ""
            },
            "type": "mesh3d"
           }
          ],
          "parcoords": [
           {
            "line": {
             "colorbar": {
              "outlinewidth": 0,
              "ticks": ""
             }
            },
            "type": "parcoords"
           }
          ],
          "pie": [
           {
            "automargin": true,
            "type": "pie"
           }
          ],
          "scatter": [
           {
            "fillpattern": {
             "fillmode": "overlay",
             "size": 10,
             "solidity": 0.2
            },
            "type": "scatter"
           }
          ],
          "scatter3d": [
           {
            "line": {
             "colorbar": {
              "outlinewidth": 0,
              "ticks": ""
             }
            },
            "marker": {
             "colorbar": {
              "outlinewidth": 0,
              "ticks": ""
             }
            },
            "type": "scatter3d"
           }
          ],
          "scattercarpet": [
           {
            "marker": {
             "colorbar": {
              "outlinewidth": 0,
              "ticks": ""
             }
            },
            "type": "scattercarpet"
           }
          ],
          "scattergeo": [
           {
            "marker": {
             "colorbar": {
              "outlinewidth": 0,
              "ticks": ""
             }
            },
            "type": "scattergeo"
           }
          ],
          "scattergl": [
           {
            "marker": {
             "colorbar": {
              "outlinewidth": 0,
              "ticks": ""
             }
            },
            "type": "scattergl"
           }
          ],
          "scattermap": [
           {
            "marker": {
             "colorbar": {
              "outlinewidth": 0,
              "ticks": ""
             }
            },
            "type": "scattermap"
           }
          ],
          "scattermapbox": [
           {
            "marker": {
             "colorbar": {
              "outlinewidth": 0,
              "ticks": ""
             }
            },
            "type": "scattermapbox"
           }
          ],
          "scatterpolar": [
           {
            "marker": {
             "colorbar": {
              "outlinewidth": 0,
              "ticks": ""
             }
            },
            "type": "scatterpolar"
           }
          ],
          "scatterpolargl": [
           {
            "marker": {
             "colorbar": {
              "outlinewidth": 0,
              "ticks": ""
             }
            },
            "type": "scatterpolargl"
           }
          ],
          "scatterternary": [
           {
            "marker": {
             "colorbar": {
              "outlinewidth": 0,
              "ticks": ""
             }
            },
            "type": "scatterternary"
           }
          ],
          "surface": [
           {
            "colorbar": {
             "outlinewidth": 0,
             "ticks": ""
            },
            "colorscale": [
             [
              0,
              "#0d0887"
             ],
             [
              0.1111111111111111,
              "#46039f"
             ],
             [
              0.2222222222222222,
              "#7201a8"
             ],
             [
              0.3333333333333333,
              "#9c179e"
             ],
             [
              0.4444444444444444,
              "#bd3786"
             ],
             [
              0.5555555555555556,
              "#d8576b"
             ],
             [
              0.6666666666666666,
              "#ed7953"
             ],
             [
              0.7777777777777778,
              "#fb9f3a"
             ],
             [
              0.8888888888888888,
              "#fdca26"
             ],
             [
              1,
              "#f0f921"
             ]
            ],
            "type": "surface"
           }
          ],
          "table": [
           {
            "cells": {
             "fill": {
              "color": "#EBF0F8"
             },
             "line": {
              "color": "white"
             }
            },
            "header": {
             "fill": {
              "color": "#C8D4E3"
             },
             "line": {
              "color": "white"
             }
            },
            "type": "table"
           }
          ]
         },
         "layout": {
          "annotationdefaults": {
           "arrowcolor": "#2a3f5f",
           "arrowhead": 0,
           "arrowwidth": 1
          },
          "autotypenumbers": "strict",
          "coloraxis": {
           "colorbar": {
            "outlinewidth": 0,
            "ticks": ""
           }
          },
          "colorscale": {
           "diverging": [
            [
             0,
             "#8e0152"
            ],
            [
             0.1,
             "#c51b7d"
            ],
            [
             0.2,
             "#de77ae"
            ],
            [
             0.3,
             "#f1b6da"
            ],
            [
             0.4,
             "#fde0ef"
            ],
            [
             0.5,
             "#f7f7f7"
            ],
            [
             0.6,
             "#e6f5d0"
            ],
            [
             0.7,
             "#b8e186"
            ],
            [
             0.8,
             "#7fbc41"
            ],
            [
             0.9,
             "#4d9221"
            ],
            [
             1,
             "#276419"
            ]
           ],
           "sequential": [
            [
             0,
             "#0d0887"
            ],
            [
             0.1111111111111111,
             "#46039f"
            ],
            [
             0.2222222222222222,
             "#7201a8"
            ],
            [
             0.3333333333333333,
             "#9c179e"
            ],
            [
             0.4444444444444444,
             "#bd3786"
            ],
            [
             0.5555555555555556,
             "#d8576b"
            ],
            [
             0.6666666666666666,
             "#ed7953"
            ],
            [
             0.7777777777777778,
             "#fb9f3a"
            ],
            [
             0.8888888888888888,
             "#fdca26"
            ],
            [
             1,
             "#f0f921"
            ]
           ],
           "sequentialminus": [
            [
             0,
             "#0d0887"
            ],
            [
             0.1111111111111111,
             "#46039f"
            ],
            [
             0.2222222222222222,
             "#7201a8"
            ],
            [
             0.3333333333333333,
             "#9c179e"
            ],
            [
             0.4444444444444444,
             "#bd3786"
            ],
            [
             0.5555555555555556,
             "#d8576b"
            ],
            [
             0.6666666666666666,
             "#ed7953"
            ],
            [
             0.7777777777777778,
             "#fb9f3a"
            ],
            [
             0.8888888888888888,
             "#fdca26"
            ],
            [
             1,
             "#f0f921"
            ]
           ]
          },
          "colorway": [
           "#636efa",
           "#EF553B",
           "#00cc96",
           "#ab63fa",
           "#FFA15A",
           "#19d3f3",
           "#FF6692",
           "#B6E880",
           "#FF97FF",
           "#FECB52"
          ],
          "font": {
           "color": "#2a3f5f"
          },
          "geo": {
           "bgcolor": "white",
           "lakecolor": "white",
           "landcolor": "white",
           "showlakes": true,
           "showland": true,
           "subunitcolor": "#C8D4E3"
          },
          "hoverlabel": {
           "align": "left"
          },
          "hovermode": "closest",
          "mapbox": {
           "style": "light"
          },
          "paper_bgcolor": "white",
          "plot_bgcolor": "white",
          "polar": {
           "angularaxis": {
            "gridcolor": "#EBF0F8",
            "linecolor": "#EBF0F8",
            "ticks": ""
           },
           "bgcolor": "white",
           "radialaxis": {
            "gridcolor": "#EBF0F8",
            "linecolor": "#EBF0F8",
            "ticks": ""
           }
          },
          "scene": {
           "xaxis": {
            "backgroundcolor": "white",
            "gridcolor": "#DFE8F3",
            "gridwidth": 2,
            "linecolor": "#EBF0F8",
            "showbackground": true,
            "ticks": "",
            "zerolinecolor": "#EBF0F8"
           },
           "yaxis": {
            "backgroundcolor": "white",
            "gridcolor": "#DFE8F3",
            "gridwidth": 2,
            "linecolor": "#EBF0F8",
            "showbackground": true,
            "ticks": "",
            "zerolinecolor": "#EBF0F8"
           },
           "zaxis": {
            "backgroundcolor": "white",
            "gridcolor": "#DFE8F3",
            "gridwidth": 2,
            "linecolor": "#EBF0F8",
            "showbackground": true,
            "ticks": "",
            "zerolinecolor": "#EBF0F8"
           }
          },
          "shapedefaults": {
           "line": {
            "color": "#2a3f5f"
           }
          },
          "ternary": {
           "aaxis": {
            "gridcolor": "#DFE8F3",
            "linecolor": "#A2B1C6",
            "ticks": ""
           },
           "baxis": {
            "gridcolor": "#DFE8F3",
            "linecolor": "#A2B1C6",
            "ticks": ""
           },
           "bgcolor": "white",
           "caxis": {
            "gridcolor": "#DFE8F3",
            "linecolor": "#A2B1C6",
            "ticks": ""
           }
          },
          "title": {
           "x": 0.05
          },
          "xaxis": {
           "automargin": true,
           "gridcolor": "#EBF0F8",
           "linecolor": "#EBF0F8",
           "ticks": "",
           "title": {
            "standoff": 15
           },
           "zerolinecolor": "#EBF0F8",
           "zerolinewidth": 2
          },
          "yaxis": {
           "automargin": true,
           "gridcolor": "#EBF0F8",
           "linecolor": "#EBF0F8",
           "ticks": "",
           "title": {
            "standoff": 15
           },
           "zerolinecolor": "#EBF0F8",
           "zerolinewidth": 2
          }
         }
        },
        "title": {
         "text": "ARIMA 90-Day Forecast"
        },
        "xaxis": {
         "title": {
          "text": "Date"
         }
        },
        "yaxis": {
         "title": {
          "text": "Consumption (kWh)"
         }
        }
       }
      }
     },
     "metadata": {},
     "output_type": "display_data"
    }
   ],
   "source": [
    "fig = go.Figure()\n",
    "\n",
    "# Historical\n",
    "fig.add_trace(go.Scatter(\n",
    "    x=daily_series.index,\n",
    "    y=daily_series.values,\n",
    "    name='Historical (Daily Sum)',\n",
    "    line=dict(color='lightblue')\n",
    "))\n",
    "\n",
    "# ARIMA Forecast\n",
    "fig.add_trace(go.Scatter(\n",
    "    x=forecast_df['ds'],\n",
    "    y=forecast_df['yhat'],\n",
    "    name='ARIMA Forecast (90 Days)',\n",
    "    line=dict(color='orange')\n",
    "))\n",
    "\n",
    "fig.update_layout(\n",
    "    title='ARIMA 90-Day Forecast',\n",
    "    xaxis_title='Date',\n",
    "    yaxis_title='Consumption (kWh)',\n",
    "    template='plotly_white'\n",
    ")\n",
    "\n",
    "fig.show()\n"
   ]
  },
  {
   "cell_type": "code",
   "execution_count": 40,
   "id": "b9575f40",
   "metadata": {},
   "outputs": [
    {
     "name": "stdout",
     "output_type": "stream",
     "text": [
      "                 Date  Predicted_Consumption_kWh\n",
      "2024-01-01 2024-01-01                  49.415048\n",
      "2024-01-02 2024-01-02                  49.589776\n",
      "2024-01-03 2024-01-03                  49.606973\n",
      "2024-01-04 2024-01-04                  49.522702\n",
      "2024-01-05 2024-01-05                  48.926407\n",
      "2024-01-06 2024-01-06                  49.368950\n",
      "2024-01-07 2024-01-07                  49.239613\n",
      "2024-01-08 2024-01-08                  49.356386\n",
      "2024-01-09 2024-01-09                  49.353462\n",
      "2024-01-10 2024-01-10                  49.431375\n"
     ]
    }
   ],
   "source": [
    "# Combine ARIMA forecast with dates\n",
    "arima_forecast_90 = pd.DataFrame({\n",
    "    'Date': future_dates,\n",
    "    'Predicted_Consumption_kWh': forecast_90\n",
    "})\n",
    "\n",
    "# Display top rows\n",
    "print(arima_forecast_90.head(10))  # or .to_csv('arima_forecast.csv') to save"
   ]
  },
  {
   "cell_type": "code",
   "execution_count": 41,
   "id": "4302a01a",
   "metadata": {},
   "outputs": [
    {
     "data": {
      "application/vnd.microsoft.datawrangler.viewer.v0+json": {
       "columns": [
        {
         "name": "index",
         "rawType": "object",
         "type": "string"
        },
        {
         "name": "Date",
         "rawType": "object",
         "type": "unknown"
        },
        {
         "name": "Predicted_Consumption_kWh",
         "rawType": "float64",
         "type": "float"
        }
       ],
       "ref": "69e68b3a-9e13-4901-9725-a1d84ccb56fe",
       "rows": [
        [
         "count",
         "90",
         "90.0"
        ],
        [
         "mean",
         "2024-02-14 12:00:00",
         "49.432919368765965"
        ],
        [
         "min",
         "2024-01-01 00:00:00",
         "48.92640729262892"
        ],
        [
         "25%",
         "2024-01-23 06:00:00",
         "49.43935145249068"
        ],
        [
         "50%",
         "2024-02-14 12:00:00",
         "49.43935147308362"
        ],
        [
         "75%",
         "2024-03-07 18:00:00",
         "49.43935147579129"
        ],
        [
         "max",
         "2024-03-30 00:00:00",
         "49.60697279272191"
        ],
        [
         "std",
         null,
         "0.0651353851384225"
        ]
       ],
       "shape": {
        "columns": 2,
        "rows": 8
       }
      },
      "text/html": [
       "<div>\n",
       "<style scoped>\n",
       "    .dataframe tbody tr th:only-of-type {\n",
       "        vertical-align: middle;\n",
       "    }\n",
       "\n",
       "    .dataframe tbody tr th {\n",
       "        vertical-align: top;\n",
       "    }\n",
       "\n",
       "    .dataframe thead th {\n",
       "        text-align: right;\n",
       "    }\n",
       "</style>\n",
       "<table border=\"1\" class=\"dataframe\">\n",
       "  <thead>\n",
       "    <tr style=\"text-align: right;\">\n",
       "      <th></th>\n",
       "      <th>Date</th>\n",
       "      <th>Predicted_Consumption_kWh</th>\n",
       "    </tr>\n",
       "  </thead>\n",
       "  <tbody>\n",
       "    <tr>\n",
       "      <th>count</th>\n",
       "      <td>90</td>\n",
       "      <td>90.000000</td>\n",
       "    </tr>\n",
       "    <tr>\n",
       "      <th>mean</th>\n",
       "      <td>2024-02-14 12:00:00</td>\n",
       "      <td>49.432919</td>\n",
       "    </tr>\n",
       "    <tr>\n",
       "      <th>min</th>\n",
       "      <td>2024-01-01 00:00:00</td>\n",
       "      <td>48.926407</td>\n",
       "    </tr>\n",
       "    <tr>\n",
       "      <th>25%</th>\n",
       "      <td>2024-01-23 06:00:00</td>\n",
       "      <td>49.439351</td>\n",
       "    </tr>\n",
       "    <tr>\n",
       "      <th>50%</th>\n",
       "      <td>2024-02-14 12:00:00</td>\n",
       "      <td>49.439351</td>\n",
       "    </tr>\n",
       "    <tr>\n",
       "      <th>75%</th>\n",
       "      <td>2024-03-07 18:00:00</td>\n",
       "      <td>49.439351</td>\n",
       "    </tr>\n",
       "    <tr>\n",
       "      <th>max</th>\n",
       "      <td>2024-03-30 00:00:00</td>\n",
       "      <td>49.606973</td>\n",
       "    </tr>\n",
       "    <tr>\n",
       "      <th>std</th>\n",
       "      <td>NaN</td>\n",
       "      <td>0.065135</td>\n",
       "    </tr>\n",
       "  </tbody>\n",
       "</table>\n",
       "</div>"
      ],
      "text/plain": [
       "                      Date  Predicted_Consumption_kWh\n",
       "count                   90                  90.000000\n",
       "mean   2024-02-14 12:00:00                  49.432919\n",
       "min    2024-01-01 00:00:00                  48.926407\n",
       "25%    2024-01-23 06:00:00                  49.439351\n",
       "50%    2024-02-14 12:00:00                  49.439351\n",
       "75%    2024-03-07 18:00:00                  49.439351\n",
       "max    2024-03-30 00:00:00                  49.606973\n",
       "std                    NaN                   0.065135"
      ]
     },
     "execution_count": 41,
     "metadata": {},
     "output_type": "execute_result"
    }
   ],
   "source": [
    "arima_forecast_90.describe()"
   ]
  },
  {
   "cell_type": "code",
   "execution_count": null,
   "id": "a21bce8e",
   "metadata": {},
   "outputs": [
    {
     "name": "stderr",
     "output_type": "stream",
     "text": [
      "c:\\Users\\Shazil Naeem\\miniconda3\\envs\\python_eda\\Lib\\site-packages\\statsmodels\\base\\model.py:607: ConvergenceWarning:\n",
      "\n",
      "Maximum Likelihood optimization failed to converge. Check mle_retvals\n",
      "\n"
     ]
    }
   ],
   "source": [
    "# Changing Order\n",
    "from statsmodels.tsa.arima.model import ARIMA\n",
    "import pandas as pd\n",
    "import plotly.graph_objects as go\n",
    "\n",
    "# Fit on full series with no differencing\n",
    "model = ARIMA(daily_series, order=(75, 0, 75))\n",
    "model_fit = model.fit()\n",
    "\n",
    "# Forecast 90 days\n",
    "forecast_90 = model_fit.forecast(steps=90)\n",
    "future_dates = pd.date_range(start=daily_series.index.max() + pd.Timedelta(days=1), periods=90)\n",
    "\n",
    "# Combine forecast\n",
    "forecast_df = pd.DataFrame({\n",
    "    'ds': future_dates,\n",
    "    'yhat': forecast_90\n",
    "})"
   ]
  },
  {
   "cell_type": "code",
   "execution_count": 43,
   "id": "8bcc409e",
   "metadata": {},
   "outputs": [
    {
     "data": {
      "application/vnd.plotly.v1+json": {
       "config": {
        "plotlyServerURL": "https://plot.ly"
       },
       "data": [
        {
         "line": {
          "color": "lightblue"
         },
         "name": "Historical (Daily Sum)",
         "type": "scatter",
         "x": [
          "2022-01-01T00:00:00.000000000",
          "2022-01-02T00:00:00.000000000",
          "2022-01-03T00:00:00.000000000",
          "2022-01-04T00:00:00.000000000",
          "2022-01-05T00:00:00.000000000",
          "2022-01-06T00:00:00.000000000",
          "2022-01-07T00:00:00.000000000",
          "2022-01-08T00:00:00.000000000",
          "2022-01-09T00:00:00.000000000",
          "2022-01-10T00:00:00.000000000",
          "2022-01-11T00:00:00.000000000",
          "2022-01-12T00:00:00.000000000",
          "2022-01-13T00:00:00.000000000",
          "2022-01-14T00:00:00.000000000",
          "2022-01-15T00:00:00.000000000",
          "2022-01-16T00:00:00.000000000",
          "2022-01-17T00:00:00.000000000",
          "2022-01-18T00:00:00.000000000",
          "2022-01-19T00:00:00.000000000",
          "2022-01-20T00:00:00.000000000",
          "2022-01-21T00:00:00.000000000",
          "2022-01-22T00:00:00.000000000",
          "2022-01-23T00:00:00.000000000",
          "2022-01-24T00:00:00.000000000",
          "2022-01-25T00:00:00.000000000",
          "2022-01-26T00:00:00.000000000",
          "2022-01-27T00:00:00.000000000",
          "2022-01-28T00:00:00.000000000",
          "2022-01-29T00:00:00.000000000",
          "2022-01-30T00:00:00.000000000",
          "2022-01-31T00:00:00.000000000",
          "2022-02-01T00:00:00.000000000",
          "2022-02-02T00:00:00.000000000",
          "2022-02-03T00:00:00.000000000",
          "2022-02-04T00:00:00.000000000",
          "2022-02-05T00:00:00.000000000",
          "2022-02-06T00:00:00.000000000",
          "2022-02-07T00:00:00.000000000",
          "2022-02-08T00:00:00.000000000",
          "2022-02-09T00:00:00.000000000",
          "2022-02-10T00:00:00.000000000",
          "2022-02-11T00:00:00.000000000",
          "2022-02-12T00:00:00.000000000",
          "2022-02-13T00:00:00.000000000",
          "2022-02-14T00:00:00.000000000",
          "2022-02-15T00:00:00.000000000",
          "2022-02-16T00:00:00.000000000",
          "2022-02-17T00:00:00.000000000",
          "2022-02-18T00:00:00.000000000",
          "2022-02-19T00:00:00.000000000",
          "2022-02-20T00:00:00.000000000",
          "2022-02-21T00:00:00.000000000",
          "2022-02-22T00:00:00.000000000",
          "2022-02-23T00:00:00.000000000",
          "2022-02-24T00:00:00.000000000",
          "2022-02-25T00:00:00.000000000",
          "2022-02-26T00:00:00.000000000",
          "2022-02-27T00:00:00.000000000",
          "2022-02-28T00:00:00.000000000",
          "2022-03-01T00:00:00.000000000",
          "2022-03-02T00:00:00.000000000",
          "2022-03-03T00:00:00.000000000",
          "2022-03-04T00:00:00.000000000",
          "2022-03-05T00:00:00.000000000",
          "2022-03-06T00:00:00.000000000",
          "2022-03-07T00:00:00.000000000",
          "2022-03-08T00:00:00.000000000",
          "2022-03-09T00:00:00.000000000",
          "2022-03-10T00:00:00.000000000",
          "2022-03-11T00:00:00.000000000",
          "2022-03-12T00:00:00.000000000",
          "2022-03-13T00:00:00.000000000",
          "2022-03-14T00:00:00.000000000",
          "2022-03-15T00:00:00.000000000",
          "2022-03-16T00:00:00.000000000",
          "2022-03-17T00:00:00.000000000",
          "2022-03-18T00:00:00.000000000",
          "2022-03-19T00:00:00.000000000",
          "2022-03-20T00:00:00.000000000",
          "2022-03-21T00:00:00.000000000",
          "2022-03-22T00:00:00.000000000",
          "2022-03-23T00:00:00.000000000",
          "2022-03-24T00:00:00.000000000",
          "2022-03-25T00:00:00.000000000",
          "2022-03-26T00:00:00.000000000",
          "2022-03-27T00:00:00.000000000",
          "2022-03-28T00:00:00.000000000",
          "2022-03-29T00:00:00.000000000",
          "2022-03-30T00:00:00.000000000",
          "2022-03-31T00:00:00.000000000",
          "2022-04-01T00:00:00.000000000",
          "2022-04-02T00:00:00.000000000",
          "2022-04-03T00:00:00.000000000",
          "2022-04-04T00:00:00.000000000",
          "2022-04-05T00:00:00.000000000",
          "2022-04-06T00:00:00.000000000",
          "2022-04-07T00:00:00.000000000",
          "2022-04-08T00:00:00.000000000",
          "2022-04-09T00:00:00.000000000",
          "2022-04-10T00:00:00.000000000",
          "2022-04-11T00:00:00.000000000",
          "2022-04-12T00:00:00.000000000",
          "2022-04-13T00:00:00.000000000",
          "2022-04-14T00:00:00.000000000",
          "2022-04-15T00:00:00.000000000",
          "2022-04-16T00:00:00.000000000",
          "2022-04-17T00:00:00.000000000",
          "2022-04-18T00:00:00.000000000",
          "2022-04-19T00:00:00.000000000",
          "2022-04-20T00:00:00.000000000",
          "2022-04-21T00:00:00.000000000",
          "2022-04-22T00:00:00.000000000",
          "2022-04-23T00:00:00.000000000",
          "2022-04-24T00:00:00.000000000",
          "2022-04-25T00:00:00.000000000",
          "2022-04-26T00:00:00.000000000",
          "2022-04-27T00:00:00.000000000",
          "2022-04-28T00:00:00.000000000",
          "2022-04-29T00:00:00.000000000",
          "2022-04-30T00:00:00.000000000",
          "2022-05-01T00:00:00.000000000",
          "2022-05-02T00:00:00.000000000",
          "2022-05-03T00:00:00.000000000",
          "2022-05-04T00:00:00.000000000",
          "2022-05-05T00:00:00.000000000",
          "2022-05-06T00:00:00.000000000",
          "2022-05-07T00:00:00.000000000",
          "2022-05-08T00:00:00.000000000",
          "2022-05-09T00:00:00.000000000",
          "2022-05-10T00:00:00.000000000",
          "2022-05-11T00:00:00.000000000",
          "2022-05-12T00:00:00.000000000",
          "2022-05-13T00:00:00.000000000",
          "2022-05-14T00:00:00.000000000",
          "2022-05-15T00:00:00.000000000",
          "2022-05-16T00:00:00.000000000",
          "2022-05-17T00:00:00.000000000",
          "2022-05-18T00:00:00.000000000",
          "2022-05-19T00:00:00.000000000",
          "2022-05-20T00:00:00.000000000",
          "2022-05-21T00:00:00.000000000",
          "2022-05-22T00:00:00.000000000",
          "2022-05-23T00:00:00.000000000",
          "2022-05-24T00:00:00.000000000",
          "2022-05-25T00:00:00.000000000",
          "2022-05-26T00:00:00.000000000",
          "2022-05-27T00:00:00.000000000",
          "2022-05-28T00:00:00.000000000",
          "2022-05-29T00:00:00.000000000",
          "2022-05-30T00:00:00.000000000",
          "2022-05-31T00:00:00.000000000",
          "2022-06-01T00:00:00.000000000",
          "2022-06-02T00:00:00.000000000",
          "2022-06-03T00:00:00.000000000",
          "2022-06-04T00:00:00.000000000",
          "2022-06-05T00:00:00.000000000",
          "2022-06-06T00:00:00.000000000",
          "2022-06-07T00:00:00.000000000",
          "2022-06-08T00:00:00.000000000",
          "2022-06-09T00:00:00.000000000",
          "2022-06-10T00:00:00.000000000",
          "2022-06-11T00:00:00.000000000",
          "2022-06-12T00:00:00.000000000",
          "2022-06-13T00:00:00.000000000",
          "2022-06-14T00:00:00.000000000",
          "2022-06-15T00:00:00.000000000",
          "2022-06-16T00:00:00.000000000",
          "2022-06-17T00:00:00.000000000",
          "2022-06-18T00:00:00.000000000",
          "2022-06-19T00:00:00.000000000",
          "2022-06-20T00:00:00.000000000",
          "2022-06-21T00:00:00.000000000",
          "2022-06-22T00:00:00.000000000",
          "2022-06-23T00:00:00.000000000",
          "2022-06-24T00:00:00.000000000",
          "2022-06-25T00:00:00.000000000",
          "2022-06-26T00:00:00.000000000",
          "2022-06-27T00:00:00.000000000",
          "2022-06-28T00:00:00.000000000",
          "2022-06-29T00:00:00.000000000",
          "2022-06-30T00:00:00.000000000",
          "2022-07-01T00:00:00.000000000",
          "2022-07-02T00:00:00.000000000",
          "2022-07-03T00:00:00.000000000",
          "2022-07-04T00:00:00.000000000",
          "2022-07-05T00:00:00.000000000",
          "2022-07-06T00:00:00.000000000",
          "2022-07-07T00:00:00.000000000",
          "2022-07-08T00:00:00.000000000",
          "2022-07-09T00:00:00.000000000",
          "2022-07-10T00:00:00.000000000",
          "2022-07-11T00:00:00.000000000",
          "2022-07-12T00:00:00.000000000",
          "2022-07-13T00:00:00.000000000",
          "2022-07-14T00:00:00.000000000",
          "2022-07-15T00:00:00.000000000",
          "2022-07-16T00:00:00.000000000",
          "2022-07-17T00:00:00.000000000",
          "2022-07-18T00:00:00.000000000",
          "2022-07-19T00:00:00.000000000",
          "2022-07-20T00:00:00.000000000",
          "2022-07-21T00:00:00.000000000",
          "2022-07-22T00:00:00.000000000",
          "2022-07-23T00:00:00.000000000",
          "2022-07-24T00:00:00.000000000",
          "2022-07-25T00:00:00.000000000",
          "2022-07-26T00:00:00.000000000",
          "2022-07-27T00:00:00.000000000",
          "2022-07-28T00:00:00.000000000",
          "2022-07-29T00:00:00.000000000",
          "2022-07-30T00:00:00.000000000",
          "2022-07-31T00:00:00.000000000",
          "2022-08-01T00:00:00.000000000",
          "2022-08-02T00:00:00.000000000",
          "2022-08-03T00:00:00.000000000",
          "2022-08-04T00:00:00.000000000",
          "2022-08-05T00:00:00.000000000",
          "2022-08-06T00:00:00.000000000",
          "2022-08-07T00:00:00.000000000",
          "2022-08-08T00:00:00.000000000",
          "2022-08-09T00:00:00.000000000",
          "2022-08-10T00:00:00.000000000",
          "2022-08-11T00:00:00.000000000",
          "2022-08-12T00:00:00.000000000",
          "2022-08-13T00:00:00.000000000",
          "2022-08-14T00:00:00.000000000",
          "2022-08-15T00:00:00.000000000",
          "2022-08-16T00:00:00.000000000",
          "2022-08-17T00:00:00.000000000",
          "2022-08-18T00:00:00.000000000",
          "2022-08-19T00:00:00.000000000",
          "2022-08-20T00:00:00.000000000",
          "2022-08-21T00:00:00.000000000",
          "2022-08-22T00:00:00.000000000",
          "2022-08-23T00:00:00.000000000",
          "2022-08-24T00:00:00.000000000",
          "2022-08-25T00:00:00.000000000",
          "2022-08-26T00:00:00.000000000",
          "2022-08-27T00:00:00.000000000",
          "2022-08-28T00:00:00.000000000",
          "2022-08-29T00:00:00.000000000",
          "2022-08-30T00:00:00.000000000",
          "2022-08-31T00:00:00.000000000",
          "2022-09-01T00:00:00.000000000",
          "2022-09-02T00:00:00.000000000",
          "2022-09-03T00:00:00.000000000",
          "2022-09-04T00:00:00.000000000",
          "2022-09-05T00:00:00.000000000",
          "2022-09-06T00:00:00.000000000",
          "2022-09-07T00:00:00.000000000",
          "2022-09-08T00:00:00.000000000",
          "2022-09-09T00:00:00.000000000",
          "2022-09-10T00:00:00.000000000",
          "2022-09-11T00:00:00.000000000",
          "2022-09-12T00:00:00.000000000",
          "2022-09-13T00:00:00.000000000",
          "2022-09-14T00:00:00.000000000",
          "2022-09-15T00:00:00.000000000",
          "2022-09-16T00:00:00.000000000",
          "2022-09-17T00:00:00.000000000",
          "2022-09-18T00:00:00.000000000",
          "2022-09-19T00:00:00.000000000",
          "2022-09-20T00:00:00.000000000",
          "2022-09-21T00:00:00.000000000",
          "2022-09-22T00:00:00.000000000",
          "2022-09-23T00:00:00.000000000",
          "2022-09-24T00:00:00.000000000",
          "2022-09-25T00:00:00.000000000",
          "2022-09-26T00:00:00.000000000",
          "2022-09-27T00:00:00.000000000",
          "2022-09-28T00:00:00.000000000",
          "2022-09-29T00:00:00.000000000",
          "2022-09-30T00:00:00.000000000",
          "2022-10-01T00:00:00.000000000",
          "2022-10-02T00:00:00.000000000",
          "2022-10-03T00:00:00.000000000",
          "2022-10-04T00:00:00.000000000",
          "2022-10-05T00:00:00.000000000",
          "2022-10-06T00:00:00.000000000",
          "2022-10-07T00:00:00.000000000",
          "2022-10-08T00:00:00.000000000",
          "2022-10-09T00:00:00.000000000",
          "2022-10-10T00:00:00.000000000",
          "2022-10-11T00:00:00.000000000",
          "2022-10-12T00:00:00.000000000",
          "2022-10-13T00:00:00.000000000",
          "2022-10-14T00:00:00.000000000",
          "2022-10-15T00:00:00.000000000",
          "2022-10-16T00:00:00.000000000",
          "2022-10-17T00:00:00.000000000",
          "2022-10-18T00:00:00.000000000",
          "2022-10-19T00:00:00.000000000",
          "2022-10-20T00:00:00.000000000",
          "2022-10-21T00:00:00.000000000",
          "2022-10-22T00:00:00.000000000",
          "2022-10-23T00:00:00.000000000",
          "2022-10-24T00:00:00.000000000",
          "2022-10-25T00:00:00.000000000",
          "2022-10-26T00:00:00.000000000",
          "2022-10-27T00:00:00.000000000",
          "2022-10-28T00:00:00.000000000",
          "2022-10-29T00:00:00.000000000",
          "2022-10-30T00:00:00.000000000",
          "2022-10-31T00:00:00.000000000",
          "2022-11-01T00:00:00.000000000",
          "2022-11-02T00:00:00.000000000",
          "2022-11-03T00:00:00.000000000",
          "2022-11-04T00:00:00.000000000",
          "2022-11-05T00:00:00.000000000",
          "2022-11-06T00:00:00.000000000",
          "2022-11-07T00:00:00.000000000",
          "2022-11-08T00:00:00.000000000",
          "2022-11-09T00:00:00.000000000",
          "2022-11-10T00:00:00.000000000",
          "2022-11-11T00:00:00.000000000",
          "2022-11-12T00:00:00.000000000",
          "2022-11-13T00:00:00.000000000",
          "2022-11-14T00:00:00.000000000",
          "2022-11-15T00:00:00.000000000",
          "2022-11-16T00:00:00.000000000",
          "2022-11-17T00:00:00.000000000",
          "2022-11-18T00:00:00.000000000",
          "2022-11-19T00:00:00.000000000",
          "2022-11-20T00:00:00.000000000",
          "2022-11-21T00:00:00.000000000",
          "2022-11-22T00:00:00.000000000",
          "2022-11-23T00:00:00.000000000",
          "2022-11-24T00:00:00.000000000",
          "2022-11-25T00:00:00.000000000",
          "2022-11-26T00:00:00.000000000",
          "2022-11-27T00:00:00.000000000",
          "2022-11-28T00:00:00.000000000",
          "2022-11-29T00:00:00.000000000",
          "2022-11-30T00:00:00.000000000",
          "2022-12-01T00:00:00.000000000",
          "2022-12-02T00:00:00.000000000",
          "2022-12-03T00:00:00.000000000",
          "2022-12-04T00:00:00.000000000",
          "2022-12-05T00:00:00.000000000",
          "2022-12-06T00:00:00.000000000",
          "2022-12-07T00:00:00.000000000",
          "2022-12-08T00:00:00.000000000",
          "2022-12-09T00:00:00.000000000",
          "2022-12-10T00:00:00.000000000",
          "2022-12-11T00:00:00.000000000",
          "2022-12-12T00:00:00.000000000",
          "2022-12-13T00:00:00.000000000",
          "2022-12-14T00:00:00.000000000",
          "2022-12-15T00:00:00.000000000",
          "2022-12-16T00:00:00.000000000",
          "2022-12-17T00:00:00.000000000",
          "2022-12-18T00:00:00.000000000",
          "2022-12-19T00:00:00.000000000",
          "2022-12-20T00:00:00.000000000",
          "2022-12-21T00:00:00.000000000",
          "2022-12-22T00:00:00.000000000",
          "2022-12-23T00:00:00.000000000",
          "2022-12-24T00:00:00.000000000",
          "2022-12-25T00:00:00.000000000",
          "2022-12-26T00:00:00.000000000",
          "2022-12-27T00:00:00.000000000",
          "2022-12-28T00:00:00.000000000",
          "2022-12-29T00:00:00.000000000",
          "2022-12-30T00:00:00.000000000",
          "2022-12-31T00:00:00.000000000",
          "2023-01-01T00:00:00.000000000",
          "2023-01-02T00:00:00.000000000",
          "2023-01-03T00:00:00.000000000",
          "2023-01-04T00:00:00.000000000",
          "2023-01-05T00:00:00.000000000",
          "2023-01-06T00:00:00.000000000",
          "2023-01-07T00:00:00.000000000",
          "2023-01-08T00:00:00.000000000",
          "2023-01-09T00:00:00.000000000",
          "2023-01-10T00:00:00.000000000",
          "2023-01-11T00:00:00.000000000",
          "2023-01-12T00:00:00.000000000",
          "2023-01-13T00:00:00.000000000",
          "2023-01-14T00:00:00.000000000",
          "2023-01-15T00:00:00.000000000",
          "2023-01-16T00:00:00.000000000",
          "2023-01-17T00:00:00.000000000",
          "2023-01-18T00:00:00.000000000",
          "2023-01-19T00:00:00.000000000",
          "2023-01-20T00:00:00.000000000",
          "2023-01-21T00:00:00.000000000",
          "2023-01-22T00:00:00.000000000",
          "2023-01-23T00:00:00.000000000",
          "2023-01-24T00:00:00.000000000",
          "2023-01-25T00:00:00.000000000",
          "2023-01-26T00:00:00.000000000",
          "2023-01-27T00:00:00.000000000",
          "2023-01-28T00:00:00.000000000",
          "2023-01-29T00:00:00.000000000",
          "2023-01-30T00:00:00.000000000",
          "2023-01-31T00:00:00.000000000",
          "2023-02-01T00:00:00.000000000",
          "2023-02-02T00:00:00.000000000",
          "2023-02-03T00:00:00.000000000",
          "2023-02-04T00:00:00.000000000",
          "2023-02-05T00:00:00.000000000",
          "2023-02-06T00:00:00.000000000",
          "2023-02-07T00:00:00.000000000",
          "2023-02-08T00:00:00.000000000",
          "2023-02-09T00:00:00.000000000",
          "2023-02-10T00:00:00.000000000",
          "2023-02-11T00:00:00.000000000",
          "2023-02-12T00:00:00.000000000",
          "2023-02-13T00:00:00.000000000",
          "2023-02-14T00:00:00.000000000",
          "2023-02-15T00:00:00.000000000",
          "2023-02-16T00:00:00.000000000",
          "2023-02-17T00:00:00.000000000",
          "2023-02-18T00:00:00.000000000",
          "2023-02-19T00:00:00.000000000",
          "2023-02-20T00:00:00.000000000",
          "2023-02-21T00:00:00.000000000",
          "2023-02-22T00:00:00.000000000",
          "2023-02-23T00:00:00.000000000",
          "2023-02-24T00:00:00.000000000",
          "2023-02-25T00:00:00.000000000",
          "2023-02-26T00:00:00.000000000",
          "2023-02-27T00:00:00.000000000",
          "2023-02-28T00:00:00.000000000",
          "2023-03-01T00:00:00.000000000",
          "2023-03-02T00:00:00.000000000",
          "2023-03-03T00:00:00.000000000",
          "2023-03-04T00:00:00.000000000",
          "2023-03-05T00:00:00.000000000",
          "2023-03-06T00:00:00.000000000",
          "2023-03-07T00:00:00.000000000",
          "2023-03-08T00:00:00.000000000",
          "2023-03-09T00:00:00.000000000",
          "2023-03-10T00:00:00.000000000",
          "2023-03-11T00:00:00.000000000",
          "2023-03-12T00:00:00.000000000",
          "2023-03-13T00:00:00.000000000",
          "2023-03-14T00:00:00.000000000",
          "2023-03-15T00:00:00.000000000",
          "2023-03-16T00:00:00.000000000",
          "2023-03-17T00:00:00.000000000",
          "2023-03-18T00:00:00.000000000",
          "2023-03-19T00:00:00.000000000",
          "2023-03-20T00:00:00.000000000",
          "2023-03-21T00:00:00.000000000",
          "2023-03-22T00:00:00.000000000",
          "2023-03-23T00:00:00.000000000",
          "2023-03-24T00:00:00.000000000",
          "2023-03-25T00:00:00.000000000",
          "2023-03-26T00:00:00.000000000",
          "2023-03-27T00:00:00.000000000",
          "2023-03-28T00:00:00.000000000",
          "2023-03-29T00:00:00.000000000",
          "2023-03-30T00:00:00.000000000",
          "2023-03-31T00:00:00.000000000",
          "2023-04-01T00:00:00.000000000",
          "2023-04-02T00:00:00.000000000",
          "2023-04-03T00:00:00.000000000",
          "2023-04-04T00:00:00.000000000",
          "2023-04-05T00:00:00.000000000",
          "2023-04-06T00:00:00.000000000",
          "2023-04-07T00:00:00.000000000",
          "2023-04-08T00:00:00.000000000",
          "2023-04-09T00:00:00.000000000",
          "2023-04-10T00:00:00.000000000",
          "2023-04-11T00:00:00.000000000",
          "2023-04-12T00:00:00.000000000",
          "2023-04-13T00:00:00.000000000",
          "2023-04-14T00:00:00.000000000",
          "2023-04-15T00:00:00.000000000",
          "2023-04-16T00:00:00.000000000",
          "2023-04-17T00:00:00.000000000",
          "2023-04-18T00:00:00.000000000",
          "2023-04-19T00:00:00.000000000",
          "2023-04-20T00:00:00.000000000",
          "2023-04-21T00:00:00.000000000",
          "2023-04-22T00:00:00.000000000",
          "2023-04-23T00:00:00.000000000",
          "2023-04-24T00:00:00.000000000",
          "2023-04-25T00:00:00.000000000",
          "2023-04-26T00:00:00.000000000",
          "2023-04-27T00:00:00.000000000",
          "2023-04-28T00:00:00.000000000",
          "2023-04-29T00:00:00.000000000",
          "2023-04-30T00:00:00.000000000",
          "2023-05-01T00:00:00.000000000",
          "2023-05-02T00:00:00.000000000",
          "2023-05-03T00:00:00.000000000",
          "2023-05-04T00:00:00.000000000",
          "2023-05-05T00:00:00.000000000",
          "2023-05-06T00:00:00.000000000",
          "2023-05-07T00:00:00.000000000",
          "2023-05-08T00:00:00.000000000",
          "2023-05-09T00:00:00.000000000",
          "2023-05-10T00:00:00.000000000",
          "2023-05-11T00:00:00.000000000",
          "2023-05-12T00:00:00.000000000",
          "2023-05-13T00:00:00.000000000",
          "2023-05-14T00:00:00.000000000",
          "2023-05-15T00:00:00.000000000",
          "2023-05-16T00:00:00.000000000",
          "2023-05-17T00:00:00.000000000",
          "2023-05-18T00:00:00.000000000",
          "2023-05-19T00:00:00.000000000",
          "2023-05-20T00:00:00.000000000",
          "2023-05-21T00:00:00.000000000",
          "2023-05-22T00:00:00.000000000",
          "2023-05-23T00:00:00.000000000",
          "2023-05-24T00:00:00.000000000",
          "2023-05-25T00:00:00.000000000",
          "2023-05-26T00:00:00.000000000",
          "2023-05-27T00:00:00.000000000",
          "2023-05-28T00:00:00.000000000",
          "2023-05-29T00:00:00.000000000",
          "2023-05-30T00:00:00.000000000",
          "2023-05-31T00:00:00.000000000",
          "2023-06-01T00:00:00.000000000",
          "2023-06-02T00:00:00.000000000",
          "2023-06-03T00:00:00.000000000",
          "2023-06-04T00:00:00.000000000",
          "2023-06-05T00:00:00.000000000",
          "2023-06-06T00:00:00.000000000",
          "2023-06-07T00:00:00.000000000",
          "2023-06-08T00:00:00.000000000",
          "2023-06-09T00:00:00.000000000",
          "2023-06-10T00:00:00.000000000",
          "2023-06-11T00:00:00.000000000",
          "2023-06-12T00:00:00.000000000",
          "2023-06-13T00:00:00.000000000",
          "2023-06-14T00:00:00.000000000",
          "2023-06-15T00:00:00.000000000",
          "2023-06-16T00:00:00.000000000",
          "2023-06-17T00:00:00.000000000",
          "2023-06-18T00:00:00.000000000",
          "2023-06-19T00:00:00.000000000",
          "2023-06-20T00:00:00.000000000",
          "2023-06-21T00:00:00.000000000",
          "2023-06-22T00:00:00.000000000",
          "2023-06-23T00:00:00.000000000",
          "2023-06-24T00:00:00.000000000",
          "2023-06-25T00:00:00.000000000",
          "2023-06-26T00:00:00.000000000",
          "2023-06-27T00:00:00.000000000",
          "2023-06-28T00:00:00.000000000",
          "2023-06-29T00:00:00.000000000",
          "2023-06-30T00:00:00.000000000",
          "2023-07-01T00:00:00.000000000",
          "2023-07-02T00:00:00.000000000",
          "2023-07-03T00:00:00.000000000",
          "2023-07-04T00:00:00.000000000",
          "2023-07-05T00:00:00.000000000",
          "2023-07-06T00:00:00.000000000",
          "2023-07-07T00:00:00.000000000",
          "2023-07-08T00:00:00.000000000",
          "2023-07-09T00:00:00.000000000",
          "2023-07-10T00:00:00.000000000",
          "2023-07-11T00:00:00.000000000",
          "2023-07-12T00:00:00.000000000",
          "2023-07-13T00:00:00.000000000",
          "2023-07-14T00:00:00.000000000",
          "2023-07-15T00:00:00.000000000",
          "2023-07-16T00:00:00.000000000",
          "2023-07-17T00:00:00.000000000",
          "2023-07-18T00:00:00.000000000",
          "2023-07-19T00:00:00.000000000",
          "2023-07-20T00:00:00.000000000",
          "2023-07-21T00:00:00.000000000",
          "2023-07-22T00:00:00.000000000",
          "2023-07-23T00:00:00.000000000",
          "2023-07-24T00:00:00.000000000",
          "2023-07-25T00:00:00.000000000",
          "2023-07-26T00:00:00.000000000",
          "2023-07-27T00:00:00.000000000",
          "2023-07-28T00:00:00.000000000",
          "2023-07-29T00:00:00.000000000",
          "2023-07-30T00:00:00.000000000",
          "2023-07-31T00:00:00.000000000",
          "2023-08-01T00:00:00.000000000",
          "2023-08-02T00:00:00.000000000",
          "2023-08-03T00:00:00.000000000",
          "2023-08-04T00:00:00.000000000",
          "2023-08-05T00:00:00.000000000",
          "2023-08-06T00:00:00.000000000",
          "2023-08-07T00:00:00.000000000",
          "2023-08-08T00:00:00.000000000",
          "2023-08-09T00:00:00.000000000",
          "2023-08-10T00:00:00.000000000",
          "2023-08-11T00:00:00.000000000",
          "2023-08-12T00:00:00.000000000",
          "2023-08-13T00:00:00.000000000",
          "2023-08-14T00:00:00.000000000",
          "2023-08-15T00:00:00.000000000",
          "2023-08-16T00:00:00.000000000",
          "2023-08-17T00:00:00.000000000",
          "2023-08-18T00:00:00.000000000",
          "2023-08-19T00:00:00.000000000",
          "2023-08-20T00:00:00.000000000",
          "2023-08-21T00:00:00.000000000",
          "2023-08-22T00:00:00.000000000",
          "2023-08-23T00:00:00.000000000",
          "2023-08-24T00:00:00.000000000",
          "2023-08-25T00:00:00.000000000",
          "2023-08-26T00:00:00.000000000",
          "2023-08-27T00:00:00.000000000",
          "2023-08-28T00:00:00.000000000",
          "2023-08-29T00:00:00.000000000",
          "2023-08-30T00:00:00.000000000",
          "2023-08-31T00:00:00.000000000",
          "2023-09-01T00:00:00.000000000",
          "2023-09-02T00:00:00.000000000",
          "2023-09-03T00:00:00.000000000",
          "2023-09-04T00:00:00.000000000",
          "2023-09-05T00:00:00.000000000",
          "2023-09-06T00:00:00.000000000",
          "2023-09-07T00:00:00.000000000",
          "2023-09-08T00:00:00.000000000",
          "2023-09-09T00:00:00.000000000",
          "2023-09-10T00:00:00.000000000",
          "2023-09-11T00:00:00.000000000",
          "2023-09-12T00:00:00.000000000",
          "2023-09-13T00:00:00.000000000",
          "2023-09-14T00:00:00.000000000",
          "2023-09-15T00:00:00.000000000",
          "2023-09-16T00:00:00.000000000",
          "2023-09-17T00:00:00.000000000",
          "2023-09-18T00:00:00.000000000",
          "2023-09-19T00:00:00.000000000",
          "2023-09-20T00:00:00.000000000",
          "2023-09-21T00:00:00.000000000",
          "2023-09-22T00:00:00.000000000",
          "2023-09-23T00:00:00.000000000",
          "2023-09-24T00:00:00.000000000",
          "2023-09-25T00:00:00.000000000",
          "2023-09-26T00:00:00.000000000",
          "2023-09-27T00:00:00.000000000",
          "2023-09-28T00:00:00.000000000",
          "2023-09-29T00:00:00.000000000",
          "2023-09-30T00:00:00.000000000",
          "2023-10-01T00:00:00.000000000",
          "2023-10-02T00:00:00.000000000",
          "2023-10-03T00:00:00.000000000",
          "2023-10-04T00:00:00.000000000",
          "2023-10-05T00:00:00.000000000",
          "2023-10-06T00:00:00.000000000",
          "2023-10-07T00:00:00.000000000",
          "2023-10-08T00:00:00.000000000",
          "2023-10-09T00:00:00.000000000",
          "2023-10-10T00:00:00.000000000",
          "2023-10-11T00:00:00.000000000",
          "2023-10-12T00:00:00.000000000",
          "2023-10-13T00:00:00.000000000",
          "2023-10-14T00:00:00.000000000",
          "2023-10-15T00:00:00.000000000",
          "2023-10-16T00:00:00.000000000",
          "2023-10-17T00:00:00.000000000",
          "2023-10-18T00:00:00.000000000",
          "2023-10-19T00:00:00.000000000",
          "2023-10-20T00:00:00.000000000",
          "2023-10-21T00:00:00.000000000",
          "2023-10-22T00:00:00.000000000",
          "2023-10-23T00:00:00.000000000",
          "2023-10-24T00:00:00.000000000",
          "2023-10-25T00:00:00.000000000",
          "2023-10-26T00:00:00.000000000",
          "2023-10-27T00:00:00.000000000",
          "2023-10-28T00:00:00.000000000",
          "2023-10-29T00:00:00.000000000",
          "2023-10-30T00:00:00.000000000",
          "2023-10-31T00:00:00.000000000",
          "2023-11-01T00:00:00.000000000",
          "2023-11-02T00:00:00.000000000",
          "2023-11-03T00:00:00.000000000",
          "2023-11-04T00:00:00.000000000",
          "2023-11-05T00:00:00.000000000",
          "2023-11-06T00:00:00.000000000",
          "2023-11-07T00:00:00.000000000",
          "2023-11-08T00:00:00.000000000",
          "2023-11-09T00:00:00.000000000",
          "2023-11-10T00:00:00.000000000",
          "2023-11-11T00:00:00.000000000",
          "2023-11-12T00:00:00.000000000",
          "2023-11-13T00:00:00.000000000",
          "2023-11-14T00:00:00.000000000",
          "2023-11-15T00:00:00.000000000",
          "2023-11-16T00:00:00.000000000",
          "2023-11-17T00:00:00.000000000",
          "2023-11-18T00:00:00.000000000",
          "2023-11-19T00:00:00.000000000",
          "2023-11-20T00:00:00.000000000",
          "2023-11-21T00:00:00.000000000",
          "2023-11-22T00:00:00.000000000",
          "2023-11-23T00:00:00.000000000",
          "2023-11-24T00:00:00.000000000",
          "2023-11-25T00:00:00.000000000",
          "2023-11-26T00:00:00.000000000",
          "2023-11-27T00:00:00.000000000",
          "2023-11-28T00:00:00.000000000",
          "2023-11-29T00:00:00.000000000",
          "2023-11-30T00:00:00.000000000",
          "2023-12-01T00:00:00.000000000",
          "2023-12-02T00:00:00.000000000",
          "2023-12-03T00:00:00.000000000",
          "2023-12-04T00:00:00.000000000",
          "2023-12-05T00:00:00.000000000",
          "2023-12-06T00:00:00.000000000",
          "2023-12-07T00:00:00.000000000",
          "2023-12-08T00:00:00.000000000",
          "2023-12-09T00:00:00.000000000",
          "2023-12-10T00:00:00.000000000",
          "2023-12-11T00:00:00.000000000",
          "2023-12-12T00:00:00.000000000",
          "2023-12-13T00:00:00.000000000",
          "2023-12-14T00:00:00.000000000",
          "2023-12-15T00:00:00.000000000",
          "2023-12-16T00:00:00.000000000",
          "2023-12-17T00:00:00.000000000",
          "2023-12-18T00:00:00.000000000",
          "2023-12-19T00:00:00.000000000",
          "2023-12-20T00:00:00.000000000",
          "2023-12-21T00:00:00.000000000",
          "2023-12-22T00:00:00.000000000",
          "2023-12-23T00:00:00.000000000",
          "2023-12-24T00:00:00.000000000",
          "2023-12-25T00:00:00.000000000",
          "2023-12-26T00:00:00.000000000",
          "2023-12-27T00:00:00.000000000",
          "2023-12-28T00:00:00.000000000",
          "2023-12-29T00:00:00.000000000",
          "2023-12-30T00:00:00.000000000",
          "2023-12-31T00:00:00.000000000"
         ],
         "y": {
          "bdata": "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",
          "dtype": "f8"
         }
        },
        {
         "line": {
          "color": "orange"
         },
         "name": "ARIMA Forecast (90 Days)",
         "type": "scatter",
         "x": [
          "2024-01-01T00:00:00.000000000",
          "2024-01-02T00:00:00.000000000",
          "2024-01-03T00:00:00.000000000",
          "2024-01-04T00:00:00.000000000",
          "2024-01-05T00:00:00.000000000",
          "2024-01-06T00:00:00.000000000",
          "2024-01-07T00:00:00.000000000",
          "2024-01-08T00:00:00.000000000",
          "2024-01-09T00:00:00.000000000",
          "2024-01-10T00:00:00.000000000",
          "2024-01-11T00:00:00.000000000",
          "2024-01-12T00:00:00.000000000",
          "2024-01-13T00:00:00.000000000",
          "2024-01-14T00:00:00.000000000",
          "2024-01-15T00:00:00.000000000",
          "2024-01-16T00:00:00.000000000",
          "2024-01-17T00:00:00.000000000",
          "2024-01-18T00:00:00.000000000",
          "2024-01-19T00:00:00.000000000",
          "2024-01-20T00:00:00.000000000",
          "2024-01-21T00:00:00.000000000",
          "2024-01-22T00:00:00.000000000",
          "2024-01-23T00:00:00.000000000",
          "2024-01-24T00:00:00.000000000",
          "2024-01-25T00:00:00.000000000",
          "2024-01-26T00:00:00.000000000",
          "2024-01-27T00:00:00.000000000",
          "2024-01-28T00:00:00.000000000",
          "2024-01-29T00:00:00.000000000",
          "2024-01-30T00:00:00.000000000",
          "2024-01-31T00:00:00.000000000",
          "2024-02-01T00:00:00.000000000",
          "2024-02-02T00:00:00.000000000",
          "2024-02-03T00:00:00.000000000",
          "2024-02-04T00:00:00.000000000",
          "2024-02-05T00:00:00.000000000",
          "2024-02-06T00:00:00.000000000",
          "2024-02-07T00:00:00.000000000",
          "2024-02-08T00:00:00.000000000",
          "2024-02-09T00:00:00.000000000",
          "2024-02-10T00:00:00.000000000",
          "2024-02-11T00:00:00.000000000",
          "2024-02-12T00:00:00.000000000",
          "2024-02-13T00:00:00.000000000",
          "2024-02-14T00:00:00.000000000",
          "2024-02-15T00:00:00.000000000",
          "2024-02-16T00:00:00.000000000",
          "2024-02-17T00:00:00.000000000",
          "2024-02-18T00:00:00.000000000",
          "2024-02-19T00:00:00.000000000",
          "2024-02-20T00:00:00.000000000",
          "2024-02-21T00:00:00.000000000",
          "2024-02-22T00:00:00.000000000",
          "2024-02-23T00:00:00.000000000",
          "2024-02-24T00:00:00.000000000",
          "2024-02-25T00:00:00.000000000",
          "2024-02-26T00:00:00.000000000",
          "2024-02-27T00:00:00.000000000",
          "2024-02-28T00:00:00.000000000",
          "2024-02-29T00:00:00.000000000",
          "2024-03-01T00:00:00.000000000",
          "2024-03-02T00:00:00.000000000",
          "2024-03-03T00:00:00.000000000",
          "2024-03-04T00:00:00.000000000",
          "2024-03-05T00:00:00.000000000",
          "2024-03-06T00:00:00.000000000",
          "2024-03-07T00:00:00.000000000",
          "2024-03-08T00:00:00.000000000",
          "2024-03-09T00:00:00.000000000",
          "2024-03-10T00:00:00.000000000",
          "2024-03-11T00:00:00.000000000",
          "2024-03-12T00:00:00.000000000",
          "2024-03-13T00:00:00.000000000",
          "2024-03-14T00:00:00.000000000",
          "2024-03-15T00:00:00.000000000",
          "2024-03-16T00:00:00.000000000",
          "2024-03-17T00:00:00.000000000",
          "2024-03-18T00:00:00.000000000",
          "2024-03-19T00:00:00.000000000",
          "2024-03-20T00:00:00.000000000",
          "2024-03-21T00:00:00.000000000",
          "2024-03-22T00:00:00.000000000",
          "2024-03-23T00:00:00.000000000",
          "2024-03-24T00:00:00.000000000",
          "2024-03-25T00:00:00.000000000",
          "2024-03-26T00:00:00.000000000",
          "2024-03-27T00:00:00.000000000",
          "2024-03-28T00:00:00.000000000",
          "2024-03-29T00:00:00.000000000",
          "2024-03-30T00:00:00.000000000"
         ],
         "y": {
          "bdata": "Ec9G5KbzSEApwTDd8rlIQJmwn726PUhAbeWbNZF9SECYWgkD3JtIQMX1JJQSR0lAEtX45/4wR0DIy5ltLbVJQIxPgrsVeklAeb74PD03SEDxFOJYa0tIQJiU6Wq2WklAWUW1cGW0SECg0QuBW4hIQNKeJbE6ekhA1s9Wss0ASUAj5A0Xl6xIQLURwkid7EdAIs21UjNkSUBbV+xXkJtJQPxY3EnN2EhAO6KFt6vOSED8/JXw1mRIQP6fyKRIVUhAZ8osPDnKSEBTHoSgC/JHQJUB5PNgQ0lAX+N7LpShSEDfZJVrLWFIQB7V1QcphEhApv6Q9WCgSUDHC/LMApJIQFyATUpVqEhAlRd6GlBySECIXDy891hJQERc/eZ350dAG1m60JoNSUBZ5OP1onVIQOESrCw+qUhAH/fwMUKRSUCDbs7DkMJHQB8LwEyEC0lAMXfYxdvaSEBuMbeQ+X9IQPaxUwKDjUhAU2ropx67SEB09X/plh5IQOQ1GpFQeUlA9YT1Q1xdSUCaNYBG4iFJQMvcSCe7/0hA4wAKgoTOSEBWgS6d2ltJQHkCLiJ0l0hAusRXOqYCSEDEUOM8bqtIQGBMZJpue0lAtuVgIHJKSUDk3zfDoJVHQPxa6YKv9EhA0NFoeEHHSEBupCwbaIdIQNvRY7Z5NUlAZqzBWJP5SEBK/nmVVJ5IQLtwkoYywkhA/uFFrhzYSECpGnQc2xxJQNotBbPEM0lAnUb37va0R0ANW8CWLUtJQOGrTDnab0hAE5MTD+h/SEDnpoGDCWZIQKrvN/F4X0hAkUcwbyEtSUCayNEwQqZIQHrj2cf/h0hAhXeflnC8SEDjprtFfLdIQOG9Om94WEhAXhYKBgwLSUDIS0C64JdIQF3WQpePC0lA6HlxrfpwSEDHQLAQ9LNIQAfgtF+cd0hAi+cDRS39SEDyGlrSUUxJQDpXDMqJHEhA",
          "dtype": "f8"
         }
        }
       ],
       "layout": {
        "template": {
         "data": {
          "bar": [
           {
            "error_x": {
             "color": "#2a3f5f"
            },
            "error_y": {
             "color": "#2a3f5f"
            },
            "marker": {
             "line": {
              "color": "white",
              "width": 0.5
             },
             "pattern": {
              "fillmode": "overlay",
              "size": 10,
              "solidity": 0.2
             }
            },
            "type": "bar"
           }
          ],
          "barpolar": [
           {
            "marker": {
             "line": {
              "color": "white",
              "width": 0.5
             },
             "pattern": {
              "fillmode": "overlay",
              "size": 10,
              "solidity": 0.2
             }
            },
            "type": "barpolar"
           }
          ],
          "carpet": [
           {
            "aaxis": {
             "endlinecolor": "#2a3f5f",
             "gridcolor": "#C8D4E3",
             "linecolor": "#C8D4E3",
             "minorgridcolor": "#C8D4E3",
             "startlinecolor": "#2a3f5f"
            },
            "baxis": {
             "endlinecolor": "#2a3f5f",
             "gridcolor": "#C8D4E3",
             "linecolor": "#C8D4E3",
             "minorgridcolor": "#C8D4E3",
             "startlinecolor": "#2a3f5f"
            },
            "type": "carpet"
           }
          ],
          "choropleth": [
           {
            "colorbar": {
             "outlinewidth": 0,
             "ticks": ""
            },
            "type": "choropleth"
           }
          ],
          "contour": [
           {
            "colorbar": {
             "outlinewidth": 0,
             "ticks": ""
            },
            "colorscale": [
             [
              0,
              "#0d0887"
             ],
             [
              0.1111111111111111,
              "#46039f"
             ],
             [
              0.2222222222222222,
              "#7201a8"
             ],
             [
              0.3333333333333333,
              "#9c179e"
             ],
             [
              0.4444444444444444,
              "#bd3786"
             ],
             [
              0.5555555555555556,
              "#d8576b"
             ],
             [
              0.6666666666666666,
              "#ed7953"
             ],
             [
              0.7777777777777778,
              "#fb9f3a"
             ],
             [
              0.8888888888888888,
              "#fdca26"
             ],
             [
              1,
              "#f0f921"
             ]
            ],
            "type": "contour"
           }
          ],
          "contourcarpet": [
           {
            "colorbar": {
             "outlinewidth": 0,
             "ticks": ""
            },
            "type": "contourcarpet"
           }
          ],
          "heatmap": [
           {
            "colorbar": {
             "outlinewidth": 0,
             "ticks": ""
            },
            "colorscale": [
             [
              0,
              "#0d0887"
             ],
             [
              0.1111111111111111,
              "#46039f"
             ],
             [
              0.2222222222222222,
              "#7201a8"
             ],
             [
              0.3333333333333333,
              "#9c179e"
             ],
             [
              0.4444444444444444,
              "#bd3786"
             ],
             [
              0.5555555555555556,
              "#d8576b"
             ],
             [
              0.6666666666666666,
              "#ed7953"
             ],
             [
              0.7777777777777778,
              "#fb9f3a"
             ],
             [
              0.8888888888888888,
              "#fdca26"
             ],
             [
              1,
              "#f0f921"
             ]
            ],
            "type": "heatmap"
           }
          ],
          "histogram": [
           {
            "marker": {
             "pattern": {
              "fillmode": "overlay",
              "size": 10,
              "solidity": 0.2
             }
            },
            "type": "histogram"
           }
          ],
          "histogram2d": [
           {
            "colorbar": {
             "outlinewidth": 0,
             "ticks": ""
            },
            "colorscale": [
             [
              0,
              "#0d0887"
             ],
             [
              0.1111111111111111,
              "#46039f"
             ],
             [
              0.2222222222222222,
              "#7201a8"
             ],
             [
              0.3333333333333333,
              "#9c179e"
             ],
             [
              0.4444444444444444,
              "#bd3786"
             ],
             [
              0.5555555555555556,
              "#d8576b"
             ],
             [
              0.6666666666666666,
              "#ed7953"
             ],
             [
              0.7777777777777778,
              "#fb9f3a"
             ],
             [
              0.8888888888888888,
              "#fdca26"
             ],
             [
              1,
              "#f0f921"
             ]
            ],
            "type": "histogram2d"
           }
          ],
          "histogram2dcontour": [
           {
            "colorbar": {
             "outlinewidth": 0,
             "ticks": ""
            },
            "colorscale": [
             [
              0,
              "#0d0887"
             ],
             [
              0.1111111111111111,
              "#46039f"
             ],
             [
              0.2222222222222222,
              "#7201a8"
             ],
             [
              0.3333333333333333,
              "#9c179e"
             ],
             [
              0.4444444444444444,
              "#bd3786"
             ],
             [
              0.5555555555555556,
              "#d8576b"
             ],
             [
              0.6666666666666666,
              "#ed7953"
             ],
             [
              0.7777777777777778,
              "#fb9f3a"
             ],
             [
              0.8888888888888888,
              "#fdca26"
             ],
             [
              1,
              "#f0f921"
             ]
            ],
            "type": "histogram2dcontour"
           }
          ],
          "mesh3d": [
           {
            "colorbar": {
             "outlinewidth": 0,
             "ticks": ""
            },
            "type": "mesh3d"
           }
          ],
          "parcoords": [
           {
            "line": {
             "colorbar": {
              "outlinewidth": 0,
              "ticks": ""
             }
            },
            "type": "parcoords"
           }
          ],
          "pie": [
           {
            "automargin": true,
            "type": "pie"
           }
          ],
          "scatter": [
           {
            "fillpattern": {
             "fillmode": "overlay",
             "size": 10,
             "solidity": 0.2
            },
            "type": "scatter"
           }
          ],
          "scatter3d": [
           {
            "line": {
             "colorbar": {
              "outlinewidth": 0,
              "ticks": ""
             }
            },
            "marker": {
             "colorbar": {
              "outlinewidth": 0,
              "ticks": ""
             }
            },
            "type": "scatter3d"
           }
          ],
          "scattercarpet": [
           {
            "marker": {
             "colorbar": {
              "outlinewidth": 0,
              "ticks": ""
             }
            },
            "type": "scattercarpet"
           }
          ],
          "scattergeo": [
           {
            "marker": {
             "colorbar": {
              "outlinewidth": 0,
              "ticks": ""
             }
            },
            "type": "scattergeo"
           }
          ],
          "scattergl": [
           {
            "marker": {
             "colorbar": {
              "outlinewidth": 0,
              "ticks": ""
             }
            },
            "type": "scattergl"
           }
          ],
          "scattermap": [
           {
            "marker": {
             "colorbar": {
              "outlinewidth": 0,
              "ticks": ""
             }
            },
            "type": "scattermap"
           }
          ],
          "scattermapbox": [
           {
            "marker": {
             "colorbar": {
              "outlinewidth": 0,
              "ticks": ""
             }
            },
            "type": "scattermapbox"
           }
          ],
          "scatterpolar": [
           {
            "marker": {
             "colorbar": {
              "outlinewidth": 0,
              "ticks": ""
             }
            },
            "type": "scatterpolar"
           }
          ],
          "scatterpolargl": [
           {
            "marker": {
             "colorbar": {
              "outlinewidth": 0,
              "ticks": ""
             }
            },
            "type": "scatterpolargl"
           }
          ],
          "scatterternary": [
           {
            "marker": {
             "colorbar": {
              "outlinewidth": 0,
              "ticks": ""
             }
            },
            "type": "scatterternary"
           }
          ],
          "surface": [
           {
            "colorbar": {
             "outlinewidth": 0,
             "ticks": ""
            },
            "colorscale": [
             [
              0,
              "#0d0887"
             ],
             [
              0.1111111111111111,
              "#46039f"
             ],
             [
              0.2222222222222222,
              "#7201a8"
             ],
             [
              0.3333333333333333,
              "#9c179e"
             ],
             [
              0.4444444444444444,
              "#bd3786"
             ],
             [
              0.5555555555555556,
              "#d8576b"
             ],
             [
              0.6666666666666666,
              "#ed7953"
             ],
             [
              0.7777777777777778,
              "#fb9f3a"
             ],
             [
              0.8888888888888888,
              "#fdca26"
             ],
             [
              1,
              "#f0f921"
             ]
            ],
            "type": "surface"
           }
          ],
          "table": [
           {
            "cells": {
             "fill": {
              "color": "#EBF0F8"
             },
             "line": {
              "color": "white"
             }
            },
            "header": {
             "fill": {
              "color": "#C8D4E3"
             },
             "line": {
              "color": "white"
             }
            },
            "type": "table"
           }
          ]
         },
         "layout": {
          "annotationdefaults": {
           "arrowcolor": "#2a3f5f",
           "arrowhead": 0,
           "arrowwidth": 1
          },
          "autotypenumbers": "strict",
          "coloraxis": {
           "colorbar": {
            "outlinewidth": 0,
            "ticks": ""
           }
          },
          "colorscale": {
           "diverging": [
            [
             0,
             "#8e0152"
            ],
            [
             0.1,
             "#c51b7d"
            ],
            [
             0.2,
             "#de77ae"
            ],
            [
             0.3,
             "#f1b6da"
            ],
            [
             0.4,
             "#fde0ef"
            ],
            [
             0.5,
             "#f7f7f7"
            ],
            [
             0.6,
             "#e6f5d0"
            ],
            [
             0.7,
             "#b8e186"
            ],
            [
             0.8,
             "#7fbc41"
            ],
            [
             0.9,
             "#4d9221"
            ],
            [
             1,
             "#276419"
            ]
           ],
           "sequential": [
            [
             0,
             "#0d0887"
            ],
            [
             0.1111111111111111,
             "#46039f"
            ],
            [
             0.2222222222222222,
             "#7201a8"
            ],
            [
             0.3333333333333333,
             "#9c179e"
            ],
            [
             0.4444444444444444,
             "#bd3786"
            ],
            [
             0.5555555555555556,
             "#d8576b"
            ],
            [
             0.6666666666666666,
             "#ed7953"
            ],
            [
             0.7777777777777778,
             "#fb9f3a"
            ],
            [
             0.8888888888888888,
             "#fdca26"
            ],
            [
             1,
             "#f0f921"
            ]
           ],
           "sequentialminus": [
            [
             0,
             "#0d0887"
            ],
            [
             0.1111111111111111,
             "#46039f"
            ],
            [
             0.2222222222222222,
             "#7201a8"
            ],
            [
             0.3333333333333333,
             "#9c179e"
            ],
            [
             0.4444444444444444,
             "#bd3786"
            ],
            [
             0.5555555555555556,
             "#d8576b"
            ],
            [
             0.6666666666666666,
             "#ed7953"
            ],
            [
             0.7777777777777778,
             "#fb9f3a"
            ],
            [
             0.8888888888888888,
             "#fdca26"
            ],
            [
             1,
             "#f0f921"
            ]
           ]
          },
          "colorway": [
           "#636efa",
           "#EF553B",
           "#00cc96",
           "#ab63fa",
           "#FFA15A",
           "#19d3f3",
           "#FF6692",
           "#B6E880",
           "#FF97FF",
           "#FECB52"
          ],
          "font": {
           "color": "#2a3f5f"
          },
          "geo": {
           "bgcolor": "white",
           "lakecolor": "white",
           "landcolor": "white",
           "showlakes": true,
           "showland": true,
           "subunitcolor": "#C8D4E3"
          },
          "hoverlabel": {
           "align": "left"
          },
          "hovermode": "closest",
          "mapbox": {
           "style": "light"
          },
          "paper_bgcolor": "white",
          "plot_bgcolor": "white",
          "polar": {
           "angularaxis": {
            "gridcolor": "#EBF0F8",
            "linecolor": "#EBF0F8",
            "ticks": ""
           },
           "bgcolor": "white",
           "radialaxis": {
            "gridcolor": "#EBF0F8",
            "linecolor": "#EBF0F8",
            "ticks": ""
           }
          },
          "scene": {
           "xaxis": {
            "backgroundcolor": "white",
            "gridcolor": "#DFE8F3",
            "gridwidth": 2,
            "linecolor": "#EBF0F8",
            "showbackground": true,
            "ticks": "",
            "zerolinecolor": "#EBF0F8"
           },
           "yaxis": {
            "backgroundcolor": "white",
            "gridcolor": "#DFE8F3",
            "gridwidth": 2,
            "linecolor": "#EBF0F8",
            "showbackground": true,
            "ticks": "",
            "zerolinecolor": "#EBF0F8"
           },
           "zaxis": {
            "backgroundcolor": "white",
            "gridcolor": "#DFE8F3",
            "gridwidth": 2,
            "linecolor": "#EBF0F8",
            "showbackground": true,
            "ticks": "",
            "zerolinecolor": "#EBF0F8"
           }
          },
          "shapedefaults": {
           "line": {
            "color": "#2a3f5f"
           }
          },
          "ternary": {
           "aaxis": {
            "gridcolor": "#DFE8F3",
            "linecolor": "#A2B1C6",
            "ticks": ""
           },
           "baxis": {
            "gridcolor": "#DFE8F3",
            "linecolor": "#A2B1C6",
            "ticks": ""
           },
           "bgcolor": "white",
           "caxis": {
            "gridcolor": "#DFE8F3",
            "linecolor": "#A2B1C6",
            "ticks": ""
           }
          },
          "title": {
           "x": 0.05
          },
          "xaxis": {
           "automargin": true,
           "gridcolor": "#EBF0F8",
           "linecolor": "#EBF0F8",
           "ticks": "",
           "title": {
            "standoff": 15
           },
           "zerolinecolor": "#EBF0F8",
           "zerolinewidth": 2
          },
          "yaxis": {
           "automargin": true,
           "gridcolor": "#EBF0F8",
           "linecolor": "#EBF0F8",
           "ticks": "",
           "title": {
            "standoff": 15
           },
           "zerolinecolor": "#EBF0F8",
           "zerolinewidth": 2
          }
         }
        },
        "title": {
         "text": "ARIMA 90-Day Forecast (Final, Properly Fitted)"
        },
        "xaxis": {
         "title": {
          "text": "Date"
         }
        },
        "yaxis": {
         "title": {
          "text": "Consumption (kWh)"
         }
        }
       }
      }
     },
     "metadata": {},
     "output_type": "display_data"
    }
   ],
   "source": [
    "fig = go.Figure()\n",
    "\n",
    "# Historical\n",
    "fig.add_trace(go.Scatter(\n",
    "    x=daily_series.index,\n",
    "    y=daily_series.values,\n",
    "    name='Historical (Daily Sum)',\n",
    "    line=dict(color='lightblue')\n",
    "))\n",
    "\n",
    "# ARIMA Forecast\n",
    "fig.add_trace(go.Scatter(\n",
    "    x=forecast_df['ds'],\n",
    "    y=forecast_df['yhat'],\n",
    "    name='ARIMA Forecast (90 Days)',\n",
    "    line=dict(color='orange')\n",
    "))\n",
    "\n",
    "fig.update_layout(\n",
    "    title='ARIMA 90-Day Forecast (Final, Properly Fitted)',\n",
    "    xaxis_title='Date',\n",
    "    yaxis_title='Consumption (kWh)',\n",
    "    template='plotly_white'\n",
    ")\n",
    "\n",
    "fig.show()\n"
   ]
  },
  {
   "cell_type": "code",
   "execution_count": 44,
   "id": "52bcad0b",
   "metadata": {},
   "outputs": [
    {
     "name": "stdout",
     "output_type": "stream",
     "text": [
      "                 Date  Predicted_Consumption_kWh\n",
      "2024-01-01 2024-01-01                  49.903531\n",
      "2024-01-02 2024-01-02                  49.452724\n",
      "2024-01-03 2024-01-03                  48.482261\n",
      "2024-01-04 2024-01-04                  48.980994\n",
      "2024-01-05 2024-01-05                  49.217652\n",
      "2024-01-06 2024-01-06                  50.555254\n",
      "2024-01-07 2024-01-07                  46.382779\n",
      "2024-01-08 2024-01-08                  51.415449\n",
      "2024-01-09 2024-01-09                  50.953788\n",
      "2024-01-10 2024-01-10                  48.431556\n"
     ]
    }
   ],
   "source": [
    "# Combine ARIMA forecast with dates\n",
    "arima_forecast_90 = pd.DataFrame({\n",
    "    'Date': future_dates,\n",
    "    'Predicted_Consumption_kWh': forecast_90\n",
    "})\n",
    "\n",
    "# Display top rows\n",
    "print(arima_forecast_90.head(10))  # or .to_csv('arima_forecast.csv') to save\n"
   ]
  },
  {
   "cell_type": "code",
   "execution_count": 45,
   "id": "28d7c21a",
   "metadata": {},
   "outputs": [
    {
     "data": {
      "application/vnd.microsoft.datawrangler.viewer.v0+json": {
       "columns": [
        {
         "name": "index",
         "rawType": "object",
         "type": "string"
        },
        {
         "name": "Date",
         "rawType": "object",
         "type": "unknown"
        },
        {
         "name": "Predicted_Consumption_kWh",
         "rawType": "float64",
         "type": "float"
        }
       ],
       "ref": "5031b990-f348-4f4b-b82f-63630828e088",
       "rows": [
        [
         "count",
         "90",
         "90.0"
        ],
        [
         "mean",
         "2024-02-14 12:00:00",
         "49.46487400164276"
        ],
        [
         "min",
         "2024-01-01 00:00:00",
         "46.38277911806121"
        ],
        [
         "25%",
         "2024-01-23 06:00:00",
         "48.92289165786363"
        ],
        [
         "50%",
         "2024-02-14 12:00:00",
         "49.40761574486362"
        ],
        [
         "75%",
         "2024-03-07 18:00:00",
         "50.102295203353464"
        ],
        [
         "max",
         "2024-03-30 00:00:00",
         "51.41544885644504"
        ],
        [
         "std",
         null,
         "0.984095012616106"
        ]
       ],
       "shape": {
        "columns": 2,
        "rows": 8
       }
      },
      "text/html": [
       "<div>\n",
       "<style scoped>\n",
       "    .dataframe tbody tr th:only-of-type {\n",
       "        vertical-align: middle;\n",
       "    }\n",
       "\n",
       "    .dataframe tbody tr th {\n",
       "        vertical-align: top;\n",
       "    }\n",
       "\n",
       "    .dataframe thead th {\n",
       "        text-align: right;\n",
       "    }\n",
       "</style>\n",
       "<table border=\"1\" class=\"dataframe\">\n",
       "  <thead>\n",
       "    <tr style=\"text-align: right;\">\n",
       "      <th></th>\n",
       "      <th>Date</th>\n",
       "      <th>Predicted_Consumption_kWh</th>\n",
       "    </tr>\n",
       "  </thead>\n",
       "  <tbody>\n",
       "    <tr>\n",
       "      <th>count</th>\n",
       "      <td>90</td>\n",
       "      <td>90.000000</td>\n",
       "    </tr>\n",
       "    <tr>\n",
       "      <th>mean</th>\n",
       "      <td>2024-02-14 12:00:00</td>\n",
       "      <td>49.464874</td>\n",
       "    </tr>\n",
       "    <tr>\n",
       "      <th>min</th>\n",
       "      <td>2024-01-01 00:00:00</td>\n",
       "      <td>46.382779</td>\n",
       "    </tr>\n",
       "    <tr>\n",
       "      <th>25%</th>\n",
       "      <td>2024-01-23 06:00:00</td>\n",
       "      <td>48.922892</td>\n",
       "    </tr>\n",
       "    <tr>\n",
       "      <th>50%</th>\n",
       "      <td>2024-02-14 12:00:00</td>\n",
       "      <td>49.407616</td>\n",
       "    </tr>\n",
       "    <tr>\n",
       "      <th>75%</th>\n",
       "      <td>2024-03-07 18:00:00</td>\n",
       "      <td>50.102295</td>\n",
       "    </tr>\n",
       "    <tr>\n",
       "      <th>max</th>\n",
       "      <td>2024-03-30 00:00:00</td>\n",
       "      <td>51.415449</td>\n",
       "    </tr>\n",
       "    <tr>\n",
       "      <th>std</th>\n",
       "      <td>NaN</td>\n",
       "      <td>0.984095</td>\n",
       "    </tr>\n",
       "  </tbody>\n",
       "</table>\n",
       "</div>"
      ],
      "text/plain": [
       "                      Date  Predicted_Consumption_kWh\n",
       "count                   90                  90.000000\n",
       "mean   2024-02-14 12:00:00                  49.464874\n",
       "min    2024-01-01 00:00:00                  46.382779\n",
       "25%    2024-01-23 06:00:00                  48.922892\n",
       "50%    2024-02-14 12:00:00                  49.407616\n",
       "75%    2024-03-07 18:00:00                  50.102295\n",
       "max    2024-03-30 00:00:00                  51.415449\n",
       "std                    NaN                   0.984095"
      ]
     },
     "execution_count": 45,
     "metadata": {},
     "output_type": "execute_result"
    }
   ],
   "source": [
    "arima_forecast_90.describe()"
   ]
  }
 ],
 "metadata": {
  "kernelspec": {
   "display_name": "python_eda",
   "language": "python",
   "name": "python3"
  },
  "language_info": {
   "codemirror_mode": {
    "name": "ipython",
    "version": 3
   },
   "file_extension": ".py",
   "mimetype": "text/x-python",
   "name": "python",
   "nbconvert_exporter": "python",
   "pygments_lexer": "ipython3",
   "version": "3.13.2"
  }
 },
 "nbformat": 4,
 "nbformat_minor": 5
}
